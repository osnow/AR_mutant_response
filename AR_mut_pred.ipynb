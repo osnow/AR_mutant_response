{
  "nbformat": 4,
  "nbformat_minor": 0,
  "metadata": {
    "colab": {
      "name": "Four_class_full_dataset.ipynb",
      "provenance": [],
      "collapsed_sections": [
        "k-WR_bXlnqbY",
        "xbIROahdURrh",
        "_tXIKel0UaGU",
        "Loal8b3SEWNn",
        "JPcN8Py_p2Ov",
        "OcvjwxS9ERnX"
      ],
      "toc_visible": true,
      "include_colab_link": true
    },
    "kernelspec": {
      "name": "python3",
      "display_name": "Python 3"
    }
  },
  "cells": [
    {
      "cell_type": "markdown",
      "metadata": {
        "id": "view-in-github",
        "colab_type": "text"
      },
      "source": [
        "<a href=\"https://colab.research.google.com/github/osnow/AR_mutant_response/blob/master/AR_mut_pred.ipynb\" target=\"_parent\"><img src=\"https://colab.research.google.com/assets/colab-badge.svg\" alt=\"Open In Colab\"/></a>"
      ]
    },
    {
      "cell_type": "code",
      "metadata": {
        "id": "vx12ph5PmclF",
        "colab_type": "code",
        "colab": {
          "base_uri": "https://localhost:8080/",
          "height": 122
        },
        "outputId": "cae0a921-69ff-4bb2-ed75-da4e1b232cdc"
      },
      "source": [
        "import numpy as np\n",
        "import matplotlib.pyplot as plt\n",
        "import pandas as pd\n",
        "from keras.models import Sequential, load_model\n",
        "from keras.layers import Dense, Dropout\n",
        "from keras.wrappers.scikit_learn import KerasClassifier\n",
        "#from sklearn.model_selection import cross_val_score, GridSearchCV, RandomizedSearchCV\n",
        "from sklearn.model_selection import KFold, LeaveOneOut, train_test_split\n",
        "from sklearn.preprocessing import StandardScaler, label_binarize\n",
        "#from sklearn.pipeline import Pipeline\n",
        "from keras.utils import np_utils\n",
        "from keras import backend as K\n",
        "from keras.callbacks import EarlyStopping, ModelCheckpoint\n",
        "from sklearn.metrics import classification_report, roc_curve, auc, roc_auc_score\n",
        "from imblearn.over_sampling import BorderlineSMOTE\n",
        "from sklearn import svm\n",
        "from sklearn.ensemble import RandomForestClassifier\n",
        "from sklearn.multiclass import OneVsRestClassifier\n",
        "from scipy import interp"
      ],
      "execution_count": null,
      "outputs": [
        {
          "output_type": "stream",
          "text": [
            "Using TensorFlow backend.\n",
            "/usr/local/lib/python3.6/dist-packages/sklearn/externals/six.py:31: FutureWarning: The module is deprecated in version 0.21 and will be removed in version 0.23 since we've dropped support for Python 2.7. Please rely on the official version of six (https://pypi.org/project/six/).\n",
            "  \"(https://pypi.org/project/six/).\", FutureWarning)\n",
            "/usr/local/lib/python3.6/dist-packages/sklearn/utils/deprecation.py:144: FutureWarning: The sklearn.neighbors.base module is  deprecated in version 0.22 and will be removed in version 0.24. The corresponding classes / functions should instead be imported from sklearn.neighbors. Anything that cannot be imported from sklearn.neighbors is now part of the private API.\n",
            "  warnings.warn(message, FutureWarning)\n"
          ],
          "name": "stderr"
        }
      ]
    },
    {
      "cell_type": "code",
      "metadata": {
        "id": "d5eAW8E_n9UA",
        "colab_type": "code",
        "colab": {
          "base_uri": "https://localhost:8080/",
          "height": 122
        },
        "outputId": "f2348739-4c58-4509-b1aa-079590c50e89"
      },
      "source": [
        "from google.colab import drive\n",
        "drive.mount('/content/drive')"
      ],
      "execution_count": null,
      "outputs": [
        {
          "output_type": "stream",
          "text": [
            "Go to this URL in a browser: https://accounts.google.com/o/oauth2/auth?client_id=947318989803-6bn6qk8qdgf4n4g3pfee6491hc0brc4i.apps.googleusercontent.com&redirect_uri=urn%3aietf%3awg%3aoauth%3a2.0%3aoob&response_type=code&scope=email%20https%3a%2f%2fwww.googleapis.com%2fauth%2fdocs.test%20https%3a%2f%2fwww.googleapis.com%2fauth%2fdrive%20https%3a%2f%2fwww.googleapis.com%2fauth%2fdrive.photos.readonly%20https%3a%2f%2fwww.googleapis.com%2fauth%2fpeopleapi.readonly\n",
            "\n",
            "Enter your authorization code:\n",
            "··········\n",
            "Mounted at /content/drive\n"
          ],
          "name": "stdout"
        }
      ]
    },
    {
      "cell_type": "markdown",
      "metadata": {
        "id": "BOdg0hq4nltQ",
        "colab_type": "text"
      },
      "source": [
        "#Import Dataset"
      ]
    },
    {
      "cell_type": "code",
      "metadata": {
        "id": "9MJIfZFNnpiI",
        "colab_type": "code",
        "colab": {
          "base_uri": "https://localhost:8080/",
          "height": 34
        },
        "outputId": "346b0c2d-f21c-4e20-8381-13715f0b5f08"
      },
      "source": [
        "fingerprints = pd.read_csv('/content/drive/My Drive/2019-McGill-Mutants/features/Morg_FPs.csv',index_col=0)\n",
        "#fingerprints = fingerprints.loc[:, fingerprints.var() != 0.0] #remove zero variance columns\n",
        "\n",
        "zscales = pd.read_csv('/content/drive/My Drive/2019-McGill-Mutants/features/zscale.csv',header=None)\n",
        "zscales = zscales.iloc[:,1:]\n",
        "#zscales = zscales.loc[:, zscales.var() != 0.0] #remove zero variance columns\n",
        "\n",
        "classes = pd.read_csv('/content/drive/My Drive/2019-McGill-Mutants/features/all_muts_classes_updated.csv', index_col=0)\n",
        "zscales.index = classes.name\n",
        "\n",
        "merged = fingerprints.merge(zscales,left_index=True,right_index=True)\n",
        "print(merged.shape)\n"
      ],
      "execution_count": null,
      "outputs": [
        {
          "output_type": "stream",
          "text": [
            "(282, 4148)\n"
          ],
          "name": "stdout"
        }
      ]
    },
    {
      "cell_type": "code",
      "metadata": {
        "id": "IEfOaUBiuLb1",
        "colab_type": "code",
        "colab": {
          "base_uri": "https://localhost:8080/",
          "height": 34
        },
        "outputId": "4dea1a56-2a2f-4b86-dd1e-5310ac19dc41"
      },
      "source": [
        "merged.values[:5,2048:].shape"
      ],
      "execution_count": null,
      "outputs": [
        {
          "output_type": "execute_result",
          "data": {
            "text/plain": [
              "(5, 2100)"
            ]
          },
          "metadata": {
            "tags": []
          },
          "execution_count": 49
        }
      ]
    },
    {
      "cell_type": "code",
      "metadata": {
        "id": "yuTFmH19J17f",
        "colab_type": "code",
        "colab": {
          "base_uri": "https://localhost:8080/",
          "height": 68
        },
        "outputId": "2de33f0d-ff4d-4d94-cc58-9b1e3e17ebf6"
      },
      "source": [
        "\n",
        "ODM_data = pd.read_csv('/content/drive/My Drive/2019-McGill-Mutants/features/ODM_mutants_train.csv',index_col=0)\n",
        "ODM_classes = ODM_data.pop('class')\n",
        "\n",
        "ODM_data.columns = merged.columns\n",
        "print(ODM_data.shape)\n",
        "\n",
        "X = pd.concat([merged, ODM_data])\n",
        "print(X.shape)\n",
        "\n",
        "y = pd.concat([classes['class'], ODM_classes])\n",
        "print(y.shape)\n",
        "dummy_y = np_utils.to_categorical(y)"
      ],
      "execution_count": null,
      "outputs": [
        {
          "output_type": "stream",
          "text": [
            "(44, 4148)\n",
            "(326, 4148)\n",
            "(326,)\n"
          ],
          "name": "stdout"
        }
      ]
    },
    {
      "cell_type": "markdown",
      "metadata": {
        "id": "0SEL01Eib6kg",
        "colab_type": "text"
      },
      "source": [
        "#Make table of training data table for supplementary"
      ]
    },
    {
      "cell_type": "code",
      "metadata": {
        "id": "5ry4xo8tOFE9",
        "colab_type": "code",
        "colab": {}
      },
      "source": [
        "classes.reset_index(drop=True, inplace=True)"
      ],
      "execution_count": null,
      "outputs": []
    },
    {
      "cell_type": "code",
      "metadata": {
        "id": "xy4XNw83Sm1n",
        "colab_type": "code",
        "colab": {}
      },
      "source": [
        "df = pd.DataFrame(np.nan, index=range(0,100), columns=['Mutant','Bicalutamide','Flutamide','Enzalutamide','Apalutamide','VPC13566','VPC13789','Darolutamide','DHT'])\n",
        "df"
      ],
      "execution_count": null,
      "outputs": []
    },
    {
      "cell_type": "code",
      "metadata": {
        "id": "I2ynCjreYvb5",
        "colab_type": "code",
        "colab": {}
      },
      "source": [
        "classes['drug'] = [drug[-1] for drug in classes['name'].str.split('_')]"
      ],
      "execution_count": null,
      "outputs": []
    },
    {
      "cell_type": "code",
      "metadata": {
        "id": "EJ9yPIZGZnp9",
        "colab_type": "code",
        "colab": {}
      },
      "source": [
        "classes['mutant'] = ['_'.join(mut[0:-1]) for mut in classes['name'].str.split('_')]\n"
      ],
      "execution_count": null,
      "outputs": []
    },
    {
      "cell_type": "code",
      "metadata": {
        "id": "kQHj-OoQZW69",
        "colab_type": "code",
        "colab": {}
      },
      "source": [
        "classes"
      ],
      "execution_count": null,
      "outputs": []
    },
    {
      "cell_type": "code",
      "metadata": {
        "id": "z2EHpceaXqTb",
        "colab_type": "code",
        "colab": {}
      },
      "source": [
        "pivoted = classes.pivot_table(values='class', index='mutant', columns='drug', aggfunc='first')\n",
        "pivoted.index = pivoted.index.str.upper()\n",
        "pivoted.to_csv('mutantsxdrugs.csv')"
      ],
      "execution_count": null,
      "outputs": []
    },
    {
      "cell_type": "markdown",
      "metadata": {
        "id": "SRQu0n698eT3",
        "colab_type": "text"
      },
      "source": [
        "# Make ODM mutant validation set"
      ]
    },
    {
      "cell_type": "code",
      "metadata": {
        "id": "oPtD-bCS4PLJ",
        "colab_type": "code",
        "colab": {
          "base_uri": "https://localhost:8080/",
          "height": 34
        },
        "outputId": "2179c59d-ea89-4c5f-a96c-1523504a0652"
      },
      "source": [
        "# create odm mutant zscales from the bica mutants\n",
        "odm_zscales = zscales.iloc[:45,:].drop('wt_bic')\n",
        "# change index name \n",
        "odm_zscales.index = odm_zscales.index.str.split('_').str[0]+'_odm'\n",
        "odm_zscales.shape"
      ],
      "execution_count": null,
      "outputs": [
        {
          "output_type": "execute_result",
          "data": {
            "text/plain": [
              "(44, 2100)"
            ]
          },
          "metadata": {
            "tags": []
          },
          "execution_count": 17
        }
      ]
    },
    {
      "cell_type": "code",
      "metadata": {
        "id": "zXIf0-hQ75ia",
        "colab_type": "code",
        "colab": {}
      },
      "source": [
        "#creat matrix of only odm fingerprints \n",
        "odm_fp = fingerprints.loc['d880e_odm',:].values\n",
        "fps = pd.DataFrame([odm_fp]*44)\n",
        "# combine fps and zscales\n",
        "odm_new_muts = np.hstack((fps,odm_zscales))\n",
        "# convert to DF with names as index\n",
        "odm_new_muts = pd.DataFrame(data=odm_new_muts,index=odm_zscales.index) \n",
        "odm_new_muts['class'] = odm_truth['Ground truth'].values # add classes column"
      ],
      "execution_count": null,
      "outputs": []
    },
    {
      "cell_type": "code",
      "metadata": {
        "id": "8FCRT8ZWvZja",
        "colab_type": "code",
        "colab": {}
      },
      "source": [
        "odm_new_muts.to_csv('/content/drive/My Drive/2019-McGill-Mutants/ODM_mutants_train.csv')"
      ],
      "execution_count": null,
      "outputs": []
    },
    {
      "cell_type": "markdown",
      "metadata": {
        "id": "k-WR_bXlnqbY",
        "colab_type": "text"
      },
      "source": [
        "#Build NN model"
      ]
    },
    {
      "cell_type": "code",
      "metadata": {
        "id": "pe6OJTEQmlQJ",
        "colab_type": "code",
        "colab": {}
      },
      "source": [
        "# Function to create model, required for KerasClassifier\n",
        "def create_model(neurons1=128, neurons2=32, epochs=100,dropout1=0.1,dropout2=0.1,mbs=16):\n",
        "    # create model\n",
        "    model = Sequential()\n",
        "    model.add(Dense(neurons1, input_dim=X.shape[1], kernel_initializer='he_normal', activation='relu'))\n",
        "    model.add(Dropout(dropout1))\n",
        "    model.add(Dense(neurons2, kernel_initializer='he_normal', activation='relu'))\n",
        "    model.add(Dropout(dropout2))\n",
        "    model.add(Dense(4, kernel_initializer='he_normal', activation='softmax'))\n",
        "    # Compile model\n",
        "    model.compile(loss='categorical_crossentropy', optimizer='adam', metrics=['accuracy'])\n",
        "    return model\n"
      ],
      "execution_count": null,
      "outputs": []
    },
    {
      "cell_type": "markdown",
      "metadata": {
        "id": "fCUer4f3Ue26",
        "colab_type": "text"
      },
      "source": [
        "# Column Transformer and over sample "
      ]
    },
    {
      "cell_type": "code",
      "metadata": {
        "id": "8G9NUDW0_EkB",
        "colab_type": "code",
        "colab": {}
      },
      "source": [
        "from pickle import dump\n",
        "scaler = StandardScaler()\n",
        "scaler.fit(X_train_res[:,2048:])\n",
        "dump(scaler, open('/content/drive/My Drive/2019-McGill-Mutants/scaler.pkl','wb'))"
      ],
      "execution_count": null,
      "outputs": []
    },
    {
      "cell_type": "code",
      "metadata": {
        "id": "jZ4UXm8XA3sD",
        "colab_type": "code",
        "colab": {
          "base_uri": "https://localhost:8080/",
          "height": 34
        },
        "outputId": "0646156b-406d-49c8-fa2c-a36c6ed1c13c"
      },
      "source": [
        "X_train_res[:,2048:].shape"
      ],
      "execution_count": null,
      "outputs": [
        {
          "output_type": "execute_result",
          "data": {
            "text/plain": [
              "(764, 2100)"
            ]
          },
          "metadata": {
            "tags": []
          },
          "execution_count": 21
        }
      ]
    },
    {
      "cell_type": "code",
      "metadata": {
        "id": "n6uMtGe4Uj1C",
        "colab_type": "code",
        "colab": {}
      },
      "source": [
        "from sklearn.compose import make_column_transformer \n",
        "\n",
        "ct = make_column_transformer(\n",
        "        (StandardScaler(), slice(2048,4148)) # make sure this shape matches zscales\n",
        "    ,remainder='drop',verbose=True)\n",
        "\n",
        "BSmote = BorderlineSMOTE()"
      ],
      "execution_count": null,
      "outputs": []
    },
    {
      "cell_type": "markdown",
      "metadata": {
        "id": "xbIROahdURrh",
        "colab_type": "text"
      },
      "source": [
        "# Run Random CV pipeline"
      ]
    },
    {
      "cell_type": "code",
      "metadata": {
        "id": "ckfUFdPGcbNk",
        "colab_type": "code",
        "colab": {}
      },
      "source": [
        "# fix random seed for reproducibility\n",
        "seed = 7\n",
        "np.random.seed(seed)\n",
        "# create model\n",
        "estimators = []\n",
        "estimators.append(('standardize', ct))\n",
        "estimators.append(('mlp', KerasClassifier(build_fn=create_model, verbose=0)))\n",
        "pipeline = Pipeline(estimators)\n",
        "# define the grid search parameters\n",
        "neurons1 = [256, 128, 64, 32]\n",
        "neurons2 = [32, 16, 8]\n",
        "epochs = [10, 20, 50, 100, 150]\n",
        "mbs = [8, 16, 32, 64]\n",
        "dropout1 = [0.0, 0.01, 0.1, 0.2, 0.3]\n",
        "dropout2 = [0.0, 0.01, 0.1, 0.2, 0.3]\n",
        "param_grid = dict(mlp__neurons1=neurons1, mlp__neurons2=neurons2,mlp__epochs=epochs,mlp__dropout1=dropout1,mlp__dropout2=dropout2,mlp__mbs=mbs,mlp__class_weight=[class_weight,'auto'])\n",
        "search = RandomizedSearchCV(estimator=pipeline, param_distributions=param_grid, n_jobs=1, cv=5, n_iter=25)\n",
        "search_result = search.fit(X, dummy_y)\n",
        "# summarize results\n",
        "print(\"Best: %f using %s\" % (search_result.best_score_, search_result.best_params_))\n",
        "means = search_result.cv_results_['mean_test_score']\n",
        "stds = search_result.cv_results_['std_test_score']\n",
        "params = search_result.cv_results_['params']\n",
        "for mean, stdev, param in zip(means, stds, params):\n",
        "    print(\"%f (%f) with: %r\" % (mean, stdev, param))"
      ],
      "execution_count": null,
      "outputs": []
    },
    {
      "cell_type": "markdown",
      "metadata": {
        "id": "_tXIKel0UaGU",
        "colab_type": "text"
      },
      "source": [
        "# CV pipeline with plotted curves"
      ]
    },
    {
      "cell_type": "code",
      "metadata": {
        "id": "N-nE7ZmvEQTN",
        "colab_type": "code",
        "colab": {}
      },
      "source": [
        "ls_mb_size = [8, 16, 32, 64]\n",
        "ls_epoch = [10, 20, 50, 100, 150]\n",
        "ls_rate = [0, 0.01, 0.02, 0.03, 0.04, 0.05, 0.08, 0.1, 0.2, 0.3]\n",
        "ls_h_dim1 = [256, 128, 64, 32]\n",
        "ls_h_dim2 = [64, 32, 16, 8]\n",
        "acts = ['relu', 'elu']\n",
        "\n",
        "max_iter = 25\n",
        "save_results_to = './val_curves/'\n",
        "\n",
        "kf = KFold(n_splits=5, random_state=42, shuffle=True)\n",
        "for iters in range(max_iter):\n",
        "    \n",
        "    mbs = np.random.choice(ls_mb_size)\n",
        "    hdm1 = np.random.choice(ls_h_dim1)\n",
        "    hdm2 = np.random.choice(ls_h_dim2)\n",
        "    epoch = np.random.choice(ls_epoch)\n",
        "    rate1 = np.random.choice(ls_rate)\n",
        "    rate2 = np.random.choice(ls_rate) \n",
        "    act = np.random.choice(acts)\n",
        "\n",
        "    k = 0\n",
        "\n",
        "    for tr_ind, ts_ind in kf.split(X.values):\n",
        "        k = k + 1\n",
        "\n",
        "        ct.fit(X.values[tr_ind,:])\n",
        "        X_train_trans = ct.transform(X.values[tr_ind,:])\n",
        "        X_test_trans = ct.transform(X.values[ts_ind,:])\n",
        "        X_train = np.hstack((X.values[tr_ind,:210],X_train_trans))\n",
        "        X_test = np.hstack((X.values[ts_ind,:210],X_test_trans))\n",
        "        \n",
        "        X_train, y_train = BorderlineSMOTE().fit_resample(X_train, dummy_y[tr_ind,:])\n",
        "\n",
        "        model = Sequential()\n",
        "        model.add(Dense(hdm1, input_dim=X_train.shape[1], kernel_initializer='he_normal', activation=act))\n",
        "        model.add(Dropout(rate1))\n",
        "        model.add(Dense(hdm2, kernel_initializer='he_normal', activation=act))\n",
        "        model.add(Dropout(rate2))\n",
        "        model.add(Dense(4, kernel_initializer='he_normal', activation='softmax'))\n",
        "        #model.summary()\n",
        "        model.compile(loss='categorical_crossentropy', optimizer='adam', metrics=['accuracy'])\n",
        "        history = model.fit(X_train, y_train, epochs=epoch, batch_size=mbs,  verbose=0, validation_data=(X_test,dummy_y[ts_ind,:]))\n",
        "        \n",
        "        plt.plot(history.history['loss'])\n",
        "        plt.plot(history.history['val_loss'])\n",
        "        title2 = 'Loss Train iter = {}, fold = {}, mb_size = {},  epoch = {}, rate = ({},{}), dim = ({},{}), act = {}'.\\\n",
        "                          format(iters, k, mbs, epoch, rate1, rate2, hdm1, hdm2, act)\n",
        "        plt.title(title2)\n",
        "        plt.ylabel('loss')\n",
        "        plt.xlabel('epoch')\n",
        "        plt.legend(['train', 'validation'], loc='upper left')\n",
        "        plt.savefig(save_results_to + title2 + '.png', dpi = 150, bbox_inches = 'tight')\n",
        "        plt.close()\n",
        "    K.clear_session()"
      ],
      "execution_count": null,
      "outputs": []
    },
    {
      "cell_type": "markdown",
      "metadata": {
        "id": "Loal8b3SEWNn",
        "colab_type": "text"
      },
      "source": [
        "#Retrain with best params and predict"
      ]
    },
    {
      "cell_type": "code",
      "metadata": {
        "id": "6cYSDSXWXdOV",
        "colab_type": "code",
        "colab": {}
      },
      "source": [
        "X_train = X.loc[~X.index.str.contains('odm'),:]\n",
        "X_test = X.loc[X.index.str.contains('odm'),:]\n",
        "y_train = dummy_y[~X.index.str.contains('odm'),:]\n",
        "y_test = dummy_y[X.index.str.contains('odm'),:]\n"
      ],
      "execution_count": null,
      "outputs": []
    },
    {
      "cell_type": "code",
      "metadata": {
        "id": "4M1gZM1G7_I2",
        "colab_type": "code",
        "colab": {}
      },
      "source": [
        "# Train on whole dataset (no split)\n",
        "X_train, y_train = X, dummy_y"
      ],
      "execution_count": null,
      "outputs": []
    },
    {
      "cell_type": "code",
      "metadata": {
        "id": "7bcE79bMcnrp",
        "colab_type": "code",
        "colab": {}
      },
      "source": [
        "X_train, X_test, y_train, y_test = train_test_split(X,dummy_y, test_size=0.2, random_state=42)\n"
      ],
      "execution_count": null,
      "outputs": []
    },
    {
      "cell_type": "code",
      "metadata": {
        "id": "hnsrvdbRyBes",
        "colab_type": "code",
        "colab": {
          "base_uri": "https://localhost:8080/",
          "height": 275
        },
        "outputId": "b9601aa7-d523-487e-b350-7f3b15639368"
      },
      "source": [
        "X_train_res, y_train_res = BorderlineSMOTE().fit_resample(X_train, y_train)\n",
        "#X_train_res, y_train_res = X_train, y_train"
      ],
      "execution_count": null,
      "outputs": [
        {
          "output_type": "stream",
          "text": [
            "/usr/local/lib/python3.6/dist-packages/sklearn/utils/deprecation.py:87: FutureWarning: Function safe_indexing is deprecated; safe_indexing is deprecated in version 0.22 and will be removed in version 0.24.\n",
            "  warnings.warn(msg, category=FutureWarning)\n",
            "/usr/local/lib/python3.6/dist-packages/sklearn/utils/deprecation.py:87: FutureWarning: Function safe_indexing is deprecated; safe_indexing is deprecated in version 0.22 and will be removed in version 0.24.\n",
            "  warnings.warn(msg, category=FutureWarning)\n",
            "/usr/local/lib/python3.6/dist-packages/sklearn/utils/deprecation.py:87: FutureWarning: Function safe_indexing is deprecated; safe_indexing is deprecated in version 0.22 and will be removed in version 0.24.\n",
            "  warnings.warn(msg, category=FutureWarning)\n",
            "/usr/local/lib/python3.6/dist-packages/sklearn/utils/deprecation.py:87: FutureWarning: Function safe_indexing is deprecated; safe_indexing is deprecated in version 0.22 and will be removed in version 0.24.\n",
            "  warnings.warn(msg, category=FutureWarning)\n",
            "/usr/local/lib/python3.6/dist-packages/sklearn/utils/deprecation.py:87: FutureWarning: Function safe_indexing is deprecated; safe_indexing is deprecated in version 0.22 and will be removed in version 0.24.\n",
            "  warnings.warn(msg, category=FutureWarning)\n",
            "/usr/local/lib/python3.6/dist-packages/sklearn/utils/deprecation.py:87: FutureWarning: Function safe_indexing is deprecated; safe_indexing is deprecated in version 0.22 and will be removed in version 0.24.\n",
            "  warnings.warn(msg, category=FutureWarning)\n",
            "/usr/local/lib/python3.6/dist-packages/sklearn/utils/deprecation.py:87: FutureWarning: Function safe_indexing is deprecated; safe_indexing is deprecated in version 0.22 and will be removed in version 0.24.\n",
            "  warnings.warn(msg, category=FutureWarning)\n"
          ],
          "name": "stderr"
        }
      ]
    },
    {
      "cell_type": "code",
      "metadata": {
        "id": "ZOY95QoU8_f2",
        "colab_type": "code",
        "colab": {
          "base_uri": "https://localhost:8080/",
          "height": 34
        },
        "outputId": "3cfd12d6-9eca-4d72-fc4b-adc8281bd5a3"
      },
      "source": [
        "X_train_trans = ct.fit_transform(X_train_res)\n",
        "#X_test_trans = ct.transform(X_test)\n",
        "X_train = np.hstack((X_train_res[:,:2048],X_train_trans))\n",
        "#X_test = np.hstack((X_test.iloc[:,:210],X_test_trans))"
      ],
      "execution_count": null,
      "outputs": [
        {
          "output_type": "stream",
          "text": [
            "[ColumnTransformer]  (1 of 1) Processing standardscaler, total=   0.0s\n"
          ],
          "name": "stdout"
        }
      ]
    },
    {
      "cell_type": "code",
      "metadata": {
        "id": "8Kb_nX8FRezu",
        "colab_type": "code",
        "colab": {
          "base_uri": "https://localhost:8080/",
          "height": 34
        },
        "outputId": "d8578840-5caa-456b-aba8-745b268328ad"
      },
      "source": [
        "X_train.shape"
      ],
      "execution_count": null,
      "outputs": [
        {
          "output_type": "execute_result",
          "data": {
            "text/plain": [
              "(720, 4148)"
            ]
          },
          "metadata": {
            "tags": []
          },
          "execution_count": 65
        }
      ]
    },
    {
      "cell_type": "code",
      "metadata": {
        "id": "Ip78J38ifN5G",
        "colab_type": "code",
        "colab": {}
      },
      "source": [
        "# model callbacks \n",
        "early_stopping = EarlyStopping(monitor='val_loss', patience=20, verbose=1, mode='auto')\n",
        "mc = ModelCheckpoint(filepath='/content/drive/My Drive/2019-McGill-Mutants/best_model_new.h5', monitor='val_accuracy', mode='auto', verbose=1, save_best_only=True)"
      ],
      "execution_count": null,
      "outputs": []
    },
    {
      "cell_type": "code",
      "metadata": {
        "id": "Q-mL5AwnEdDM",
        "colab_type": "code",
        "colab": {
          "base_uri": "https://localhost:8080/",
          "height": 1000
        },
        "outputId": "0bf9b63e-819c-49eb-936d-5075772b9a07"
      },
      "source": [
        "# create and fit on train data using best hyperparameters \n",
        "model = create_model(neurons1=128,neurons2=32,epochs=50, dropout1=0.01,dropout2=0.01, mbs=32)\n",
        "model.fit(X_train,y_train_res,verbose=1,epochs=100,batch_size=16,validation_split=0.2, callbacks=[early_stopping,mc])"
      ],
      "execution_count": null,
      "outputs": [
        {
          "output_type": "stream",
          "text": [
            "Train on 576 samples, validate on 144 samples\n",
            "Epoch 1/100\n",
            "576/576 [==============================] - 1s 1ms/step - loss: 1.2289 - accuracy: 0.4688 - val_loss: 1.0194 - val_accuracy: 0.4931\n",
            "\n",
            "Epoch 00001: val_accuracy improved from -inf to 0.49306, saving model to /content/drive/My Drive/2019-McGill-Mutants/best_model_new.h5\n",
            "Epoch 2/100\n",
            "576/576 [==============================] - 0s 529us/step - loss: 0.6734 - accuracy: 0.7674 - val_loss: 1.5941 - val_accuracy: 0.3472\n",
            "\n",
            "Epoch 00002: val_accuracy did not improve from 0.49306\n",
            "Epoch 3/100\n",
            "576/576 [==============================] - 0s 446us/step - loss: 0.4933 - accuracy: 0.8438 - val_loss: 0.6532 - val_accuracy: 0.7083\n",
            "\n",
            "Epoch 00003: val_accuracy improved from 0.49306 to 0.70833, saving model to /content/drive/My Drive/2019-McGill-Mutants/best_model_new.h5\n",
            "Epoch 4/100\n",
            "576/576 [==============================] - 0s 470us/step - loss: 0.4209 - accuracy: 0.8594 - val_loss: 0.8102 - val_accuracy: 0.5069\n",
            "\n",
            "Epoch 00004: val_accuracy did not improve from 0.70833\n",
            "Epoch 5/100\n",
            "576/576 [==============================] - 0s 454us/step - loss: 0.3932 - accuracy: 0.8785 - val_loss: 0.7758 - val_accuracy: 0.6667\n",
            "\n",
            "Epoch 00005: val_accuracy did not improve from 0.70833\n",
            "Epoch 6/100\n",
            "576/576 [==============================] - 0s 464us/step - loss: 0.3184 - accuracy: 0.8872 - val_loss: 0.4330 - val_accuracy: 0.8750\n",
            "\n",
            "Epoch 00006: val_accuracy improved from 0.70833 to 0.87500, saving model to /content/drive/My Drive/2019-McGill-Mutants/best_model_new.h5\n",
            "Epoch 7/100\n",
            "576/576 [==============================] - 0s 467us/step - loss: 0.3184 - accuracy: 0.8889 - val_loss: 0.6631 - val_accuracy: 0.7014\n",
            "\n",
            "Epoch 00007: val_accuracy did not improve from 0.87500\n",
            "Epoch 8/100\n",
            "576/576 [==============================] - 0s 480us/step - loss: 0.3248 - accuracy: 0.8889 - val_loss: 0.2809 - val_accuracy: 0.9306\n",
            "\n",
            "Epoch 00008: val_accuracy improved from 0.87500 to 0.93056, saving model to /content/drive/My Drive/2019-McGill-Mutants/best_model_new.h5\n",
            "Epoch 9/100\n",
            "576/576 [==============================] - 0s 546us/step - loss: 0.2874 - accuracy: 0.9010 - val_loss: 0.5346 - val_accuracy: 0.7917\n",
            "\n",
            "Epoch 00009: val_accuracy did not improve from 0.93056\n",
            "Epoch 10/100\n",
            "576/576 [==============================] - 0s 458us/step - loss: 0.2679 - accuracy: 0.9080 - val_loss: 0.5533 - val_accuracy: 0.7500\n",
            "\n",
            "Epoch 00010: val_accuracy did not improve from 0.93056\n",
            "Epoch 11/100\n",
            "576/576 [==============================] - 0s 457us/step - loss: 0.2626 - accuracy: 0.9062 - val_loss: 0.8312 - val_accuracy: 0.5347\n",
            "\n",
            "Epoch 00011: val_accuracy did not improve from 0.93056\n",
            "Epoch 12/100\n",
            "576/576 [==============================] - 0s 463us/step - loss: 0.2614 - accuracy: 0.9097 - val_loss: 0.2797 - val_accuracy: 0.8819\n",
            "\n",
            "Epoch 00012: val_accuracy did not improve from 0.93056\n",
            "Epoch 13/100\n",
            "576/576 [==============================] - 0s 477us/step - loss: 0.2628 - accuracy: 0.9045 - val_loss: 0.4864 - val_accuracy: 0.8194\n",
            "\n",
            "Epoch 00013: val_accuracy did not improve from 0.93056\n",
            "Epoch 14/100\n",
            "576/576 [==============================] - 0s 445us/step - loss: 0.2717 - accuracy: 0.9097 - val_loss: 0.2341 - val_accuracy: 0.9167\n",
            "\n",
            "Epoch 00014: val_accuracy did not improve from 0.93056\n",
            "Epoch 15/100\n",
            "576/576 [==============================] - 0s 444us/step - loss: 0.3251 - accuracy: 0.8785 - val_loss: 0.6966 - val_accuracy: 0.6458\n",
            "\n",
            "Epoch 00015: val_accuracy did not improve from 0.93056\n",
            "Epoch 16/100\n",
            "576/576 [==============================] - 0s 471us/step - loss: 0.2630 - accuracy: 0.9219 - val_loss: 0.2892 - val_accuracy: 0.9097\n",
            "\n",
            "Epoch 00016: val_accuracy did not improve from 0.93056\n",
            "Epoch 17/100\n",
            "576/576 [==============================] - 0s 468us/step - loss: 0.2346 - accuracy: 0.9149 - val_loss: 0.7630 - val_accuracy: 0.5278\n",
            "\n",
            "Epoch 00017: val_accuracy did not improve from 0.93056\n",
            "Epoch 18/100\n",
            "576/576 [==============================] - 0s 443us/step - loss: 0.2356 - accuracy: 0.9149 - val_loss: 0.6193 - val_accuracy: 0.7569\n",
            "\n",
            "Epoch 00018: val_accuracy did not improve from 0.93056\n",
            "Epoch 19/100\n",
            "576/576 [==============================] - 0s 469us/step - loss: 0.2270 - accuracy: 0.9115 - val_loss: 0.3241 - val_accuracy: 0.8889\n",
            "\n",
            "Epoch 00019: val_accuracy did not improve from 0.93056\n",
            "Epoch 20/100\n",
            "576/576 [==============================] - 0s 445us/step - loss: 0.2572 - accuracy: 0.9045 - val_loss: 0.5468 - val_accuracy: 0.7708\n",
            "\n",
            "Epoch 00020: val_accuracy did not improve from 0.93056\n",
            "Epoch 21/100\n",
            "576/576 [==============================] - 0s 472us/step - loss: 0.2256 - accuracy: 0.9271 - val_loss: 0.7149 - val_accuracy: 0.6250\n",
            "\n",
            "Epoch 00021: val_accuracy did not improve from 0.93056\n",
            "Epoch 22/100\n",
            "576/576 [==============================] - 0s 444us/step - loss: 0.2429 - accuracy: 0.9219 - val_loss: 0.4042 - val_accuracy: 0.8194\n",
            "\n",
            "Epoch 00022: val_accuracy did not improve from 0.93056\n",
            "Epoch 23/100\n",
            "576/576 [==============================] - 0s 472us/step - loss: 0.1937 - accuracy: 0.9340 - val_loss: 0.2772 - val_accuracy: 0.9097\n",
            "\n",
            "Epoch 00023: val_accuracy did not improve from 0.93056\n",
            "Epoch 24/100\n",
            "576/576 [==============================] - 0s 495us/step - loss: 0.2308 - accuracy: 0.9132 - val_loss: 0.3541 - val_accuracy: 0.8403\n",
            "\n",
            "Epoch 00024: val_accuracy did not improve from 0.93056\n",
            "Epoch 25/100\n",
            "576/576 [==============================] - 0s 483us/step - loss: 0.1926 - accuracy: 0.9288 - val_loss: 0.6085 - val_accuracy: 0.8056\n",
            "\n",
            "Epoch 00025: val_accuracy did not improve from 0.93056\n",
            "Epoch 26/100\n",
            "576/576 [==============================] - 0s 483us/step - loss: 0.1667 - accuracy: 0.9531 - val_loss: 0.3275 - val_accuracy: 0.8681\n",
            "\n",
            "Epoch 00026: val_accuracy did not improve from 0.93056\n",
            "Epoch 27/100\n",
            "576/576 [==============================] - 0s 475us/step - loss: 0.1798 - accuracy: 0.9410 - val_loss: 0.4545 - val_accuracy: 0.7847\n",
            "\n",
            "Epoch 00027: val_accuracy did not improve from 0.93056\n",
            "Epoch 28/100\n",
            "576/576 [==============================] - 0s 495us/step - loss: 0.1640 - accuracy: 0.9479 - val_loss: 0.6601 - val_accuracy: 0.7708\n",
            "\n",
            "Epoch 00028: val_accuracy did not improve from 0.93056\n",
            "Epoch 29/100\n",
            "576/576 [==============================] - 0s 545us/step - loss: 0.1746 - accuracy: 0.9444 - val_loss: 0.1570 - val_accuracy: 0.9514\n",
            "\n",
            "Epoch 00029: val_accuracy improved from 0.93056 to 0.95139, saving model to /content/drive/My Drive/2019-McGill-Mutants/best_model_new.h5\n",
            "Epoch 30/100\n",
            "576/576 [==============================] - 0s 497us/step - loss: 0.2336 - accuracy: 0.9219 - val_loss: 1.5606 - val_accuracy: 0.3958\n",
            "\n",
            "Epoch 00030: val_accuracy did not improve from 0.95139\n",
            "Epoch 31/100\n",
            "576/576 [==============================] - 0s 515us/step - loss: 0.2218 - accuracy: 0.9201 - val_loss: 0.2085 - val_accuracy: 0.9306\n",
            "\n",
            "Epoch 00031: val_accuracy did not improve from 0.95139\n",
            "Epoch 32/100\n",
            "576/576 [==============================] - 0s 546us/step - loss: 0.2123 - accuracy: 0.9271 - val_loss: 0.1743 - val_accuracy: 0.9375\n",
            "\n",
            "Epoch 00032: val_accuracy did not improve from 0.95139\n",
            "Epoch 33/100\n",
            "576/576 [==============================] - 0s 514us/step - loss: 0.1916 - accuracy: 0.9306 - val_loss: 0.3828 - val_accuracy: 0.8125\n",
            "\n",
            "Epoch 00033: val_accuracy did not improve from 0.95139\n",
            "Epoch 34/100\n",
            "576/576 [==============================] - 0s 489us/step - loss: 0.2001 - accuracy: 0.9306 - val_loss: 0.2738 - val_accuracy: 0.8681\n",
            "\n",
            "Epoch 00034: val_accuracy did not improve from 0.95139\n",
            "Epoch 35/100\n",
            "576/576 [==============================] - 0s 526us/step - loss: 0.1900 - accuracy: 0.9392 - val_loss: 0.4713 - val_accuracy: 0.7778\n",
            "\n",
            "Epoch 00035: val_accuracy did not improve from 0.95139\n",
            "Epoch 36/100\n",
            "576/576 [==============================] - 0s 518us/step - loss: 0.2013 - accuracy: 0.9288 - val_loss: 0.2642 - val_accuracy: 0.8750\n",
            "\n",
            "Epoch 00036: val_accuracy did not improve from 0.95139\n",
            "Epoch 37/100\n",
            "576/576 [==============================] - 0s 464us/step - loss: 0.1337 - accuracy: 0.9583 - val_loss: 0.2089 - val_accuracy: 0.8958\n",
            "\n",
            "Epoch 00037: val_accuracy did not improve from 0.95139\n",
            "Epoch 38/100\n",
            "576/576 [==============================] - 0s 511us/step - loss: 0.1433 - accuracy: 0.9497 - val_loss: 0.4420 - val_accuracy: 0.8333\n",
            "\n",
            "Epoch 00038: val_accuracy did not improve from 0.95139\n",
            "Epoch 39/100\n",
            "576/576 [==============================] - 0s 473us/step - loss: 0.1399 - accuracy: 0.9497 - val_loss: 0.1130 - val_accuracy: 0.9653\n",
            "\n",
            "Epoch 00039: val_accuracy improved from 0.95139 to 0.96528, saving model to /content/drive/My Drive/2019-McGill-Mutants/best_model_new.h5\n",
            "Epoch 40/100\n",
            "576/576 [==============================] - 0s 494us/step - loss: 0.1706 - accuracy: 0.9392 - val_loss: 0.6454 - val_accuracy: 0.7014\n",
            "\n",
            "Epoch 00040: val_accuracy did not improve from 0.96528\n",
            "Epoch 41/100\n",
            "576/576 [==============================] - 0s 477us/step - loss: 0.1442 - accuracy: 0.9479 - val_loss: 0.2899 - val_accuracy: 0.8472\n",
            "\n",
            "Epoch 00041: val_accuracy did not improve from 0.96528\n",
            "Epoch 42/100\n",
            "576/576 [==============================] - 0s 487us/step - loss: 0.1358 - accuracy: 0.9583 - val_loss: 0.4937 - val_accuracy: 0.8194\n",
            "\n",
            "Epoch 00042: val_accuracy did not improve from 0.96528\n",
            "Epoch 43/100\n",
            "576/576 [==============================] - 0s 488us/step - loss: 0.1250 - accuracy: 0.9549 - val_loss: 0.4006 - val_accuracy: 0.8403\n",
            "\n",
            "Epoch 00043: val_accuracy did not improve from 0.96528\n",
            "Epoch 44/100\n",
            "576/576 [==============================] - 0s 492us/step - loss: 0.1852 - accuracy: 0.9375 - val_loss: 0.1481 - val_accuracy: 0.9653\n",
            "\n",
            "Epoch 00044: val_accuracy did not improve from 0.96528\n",
            "Epoch 45/100\n",
            "576/576 [==============================] - 0s 519us/step - loss: 0.1502 - accuracy: 0.9531 - val_loss: 0.4416 - val_accuracy: 0.8333\n",
            "\n",
            "Epoch 00045: val_accuracy did not improve from 0.96528\n",
            "Epoch 46/100\n",
            "576/576 [==============================] - 0s 474us/step - loss: 0.1441 - accuracy: 0.9444 - val_loss: 0.2440 - val_accuracy: 0.8819\n",
            "\n",
            "Epoch 00046: val_accuracy did not improve from 0.96528\n",
            "Epoch 47/100\n",
            "576/576 [==============================] - 0s 473us/step - loss: 0.1169 - accuracy: 0.9618 - val_loss: 0.2018 - val_accuracy: 0.9236\n",
            "\n",
            "Epoch 00047: val_accuracy did not improve from 0.96528\n",
            "Epoch 48/100\n",
            "576/576 [==============================] - 0s 484us/step - loss: 0.1478 - accuracy: 0.9392 - val_loss: 0.1168 - val_accuracy: 0.9514\n",
            "\n",
            "Epoch 00048: val_accuracy did not improve from 0.96528\n",
            "Epoch 49/100\n",
            "576/576 [==============================] - 0s 472us/step - loss: 0.1309 - accuracy: 0.9531 - val_loss: 0.3771 - val_accuracy: 0.8264\n",
            "\n",
            "Epoch 00049: val_accuracy did not improve from 0.96528\n",
            "Epoch 50/100\n",
            "576/576 [==============================] - 0s 466us/step - loss: 0.1302 - accuracy: 0.9479 - val_loss: 0.2626 - val_accuracy: 0.8403\n",
            "\n",
            "Epoch 00050: val_accuracy did not improve from 0.96528\n",
            "Epoch 51/100\n",
            "576/576 [==============================] - 0s 489us/step - loss: 0.1240 - accuracy: 0.9601 - val_loss: 0.1137 - val_accuracy: 0.9722\n",
            "\n",
            "Epoch 00051: val_accuracy improved from 0.96528 to 0.97222, saving model to /content/drive/My Drive/2019-McGill-Mutants/best_model_new.h5\n",
            "Epoch 52/100\n",
            "576/576 [==============================] - 0s 478us/step - loss: 0.1733 - accuracy: 0.9288 - val_loss: 0.1212 - val_accuracy: 0.9444\n",
            "\n",
            "Epoch 00052: val_accuracy did not improve from 0.97222\n",
            "Epoch 53/100\n",
            "576/576 [==============================] - 0s 488us/step - loss: 0.2091 - accuracy: 0.9236 - val_loss: 0.2357 - val_accuracy: 0.9028\n",
            "\n",
            "Epoch 00053: val_accuracy did not improve from 0.97222\n",
            "Epoch 54/100\n",
            "576/576 [==============================] - 0s 530us/step - loss: 0.1406 - accuracy: 0.9462 - val_loss: 0.1364 - val_accuracy: 0.9444\n",
            "\n",
            "Epoch 00054: val_accuracy did not improve from 0.97222\n",
            "Epoch 55/100\n",
            "576/576 [==============================] - 0s 495us/step - loss: 0.1299 - accuracy: 0.9653 - val_loss: 0.5452 - val_accuracy: 0.8125\n",
            "\n",
            "Epoch 00055: val_accuracy did not improve from 0.97222\n",
            "Epoch 56/100\n",
            "576/576 [==============================] - 0s 514us/step - loss: 0.1491 - accuracy: 0.9566 - val_loss: 0.0965 - val_accuracy: 0.9792\n",
            "\n",
            "Epoch 00056: val_accuracy improved from 0.97222 to 0.97917, saving model to /content/drive/My Drive/2019-McGill-Mutants/best_model_new.h5\n",
            "Epoch 57/100\n",
            "576/576 [==============================] - 0s 519us/step - loss: 0.1106 - accuracy: 0.9653 - val_loss: 0.2897 - val_accuracy: 0.8681\n",
            "\n",
            "Epoch 00057: val_accuracy did not improve from 0.97917\n",
            "Epoch 58/100\n",
            "576/576 [==============================] - 0s 504us/step - loss: 0.1269 - accuracy: 0.9514 - val_loss: 0.6358 - val_accuracy: 0.7639\n",
            "\n",
            "Epoch 00058: val_accuracy did not improve from 0.97917\n",
            "Epoch 59/100\n",
            "576/576 [==============================] - 0s 478us/step - loss: 0.1060 - accuracy: 0.9618 - val_loss: 0.2556 - val_accuracy: 0.8542\n",
            "\n",
            "Epoch 00059: val_accuracy did not improve from 0.97917\n",
            "Epoch 60/100\n",
            "576/576 [==============================] - 0s 476us/step - loss: 0.1371 - accuracy: 0.9566 - val_loss: 0.0873 - val_accuracy: 0.9792\n",
            "\n",
            "Epoch 00060: val_accuracy did not improve from 0.97917\n",
            "Epoch 61/100\n",
            "576/576 [==============================] - 0s 491us/step - loss: 0.1188 - accuracy: 0.9497 - val_loss: 0.1093 - val_accuracy: 0.9722\n",
            "\n",
            "Epoch 00061: val_accuracy did not improve from 0.97917\n",
            "Epoch 62/100\n",
            "576/576 [==============================] - 0s 470us/step - loss: 0.1179 - accuracy: 0.9635 - val_loss: 0.0909 - val_accuracy: 0.9583\n",
            "\n",
            "Epoch 00062: val_accuracy did not improve from 0.97917\n",
            "Epoch 63/100\n",
            "576/576 [==============================] - 0s 493us/step - loss: 0.1340 - accuracy: 0.9531 - val_loss: 0.1929 - val_accuracy: 0.8889\n",
            "\n",
            "Epoch 00063: val_accuracy did not improve from 0.97917\n",
            "Epoch 64/100\n",
            "576/576 [==============================] - 0s 493us/step - loss: 0.0941 - accuracy: 0.9670 - val_loss: 0.2682 - val_accuracy: 0.9028\n",
            "\n",
            "Epoch 00064: val_accuracy did not improve from 0.97917\n",
            "Epoch 65/100\n",
            "576/576 [==============================] - 0s 517us/step - loss: 0.0894 - accuracy: 0.9688 - val_loss: 0.2495 - val_accuracy: 0.8958\n",
            "\n",
            "Epoch 00065: val_accuracy did not improve from 0.97917\n",
            "Epoch 66/100\n",
            "576/576 [==============================] - 0s 476us/step - loss: 0.0963 - accuracy: 0.9670 - val_loss: 0.2385 - val_accuracy: 0.8819\n",
            "\n",
            "Epoch 00066: val_accuracy did not improve from 0.97917\n",
            "Epoch 67/100\n",
            "576/576 [==============================] - 0s 482us/step - loss: 0.1190 - accuracy: 0.9583 - val_loss: 0.1251 - val_accuracy: 0.9306\n",
            "\n",
            "Epoch 00067: val_accuracy did not improve from 0.97917\n",
            "Epoch 68/100\n",
            "576/576 [==============================] - 0s 477us/step - loss: 0.0999 - accuracy: 0.9618 - val_loss: 0.0986 - val_accuracy: 0.9653\n",
            "\n",
            "Epoch 00068: val_accuracy did not improve from 0.97917\n",
            "Epoch 69/100\n",
            "576/576 [==============================] - 0s 495us/step - loss: 0.0885 - accuracy: 0.9705 - val_loss: 0.1287 - val_accuracy: 0.9236\n",
            "\n",
            "Epoch 00069: val_accuracy did not improve from 0.97917\n",
            "Epoch 70/100\n",
            "576/576 [==============================] - 0s 556us/step - loss: 0.0736 - accuracy: 0.9705 - val_loss: 0.0896 - val_accuracy: 0.9583\n",
            "\n",
            "Epoch 00070: val_accuracy did not improve from 0.97917\n",
            "Epoch 71/100\n",
            "576/576 [==============================] - 0s 536us/step - loss: 0.0939 - accuracy: 0.9688 - val_loss: 0.0687 - val_accuracy: 0.9861\n",
            "\n",
            "Epoch 00071: val_accuracy improved from 0.97917 to 0.98611, saving model to /content/drive/My Drive/2019-McGill-Mutants/best_model_new.h5\n",
            "Epoch 72/100\n",
            "576/576 [==============================] - 0s 496us/step - loss: 0.0921 - accuracy: 0.9635 - val_loss: 0.1946 - val_accuracy: 0.9028\n",
            "\n",
            "Epoch 00072: val_accuracy did not improve from 0.98611\n",
            "Epoch 73/100\n",
            "576/576 [==============================] - 0s 521us/step - loss: 0.0836 - accuracy: 0.9740 - val_loss: 0.0935 - val_accuracy: 0.9514\n",
            "\n",
            "Epoch 00073: val_accuracy did not improve from 0.98611\n",
            "Epoch 74/100\n",
            "576/576 [==============================] - 0s 498us/step - loss: 0.1133 - accuracy: 0.9583 - val_loss: 0.2410 - val_accuracy: 0.8819\n",
            "\n",
            "Epoch 00074: val_accuracy did not improve from 0.98611\n",
            "Epoch 75/100\n",
            "576/576 [==============================] - 0s 486us/step - loss: 0.1218 - accuracy: 0.9583 - val_loss: 0.0822 - val_accuracy: 0.9583\n",
            "\n",
            "Epoch 00075: val_accuracy did not improve from 0.98611\n",
            "Epoch 76/100\n",
            "576/576 [==============================] - 0s 492us/step - loss: 0.0928 - accuracy: 0.9618 - val_loss: 0.2505 - val_accuracy: 0.9097\n",
            "\n",
            "Epoch 00076: val_accuracy did not improve from 0.98611\n",
            "Epoch 77/100\n",
            "576/576 [==============================] - 0s 482us/step - loss: 0.0667 - accuracy: 0.9653 - val_loss: 0.0867 - val_accuracy: 0.9514\n",
            "\n",
            "Epoch 00077: val_accuracy did not improve from 0.98611\n",
            "Epoch 78/100\n",
            "576/576 [==============================] - 0s 488us/step - loss: 0.1094 - accuracy: 0.9549 - val_loss: 0.0996 - val_accuracy: 1.0000\n",
            "\n",
            "Epoch 00078: val_accuracy improved from 0.98611 to 1.00000, saving model to /content/drive/My Drive/2019-McGill-Mutants/best_model_new.h5\n",
            "Epoch 79/100\n",
            "576/576 [==============================] - 0s 502us/step - loss: 0.1120 - accuracy: 0.9566 - val_loss: 0.1977 - val_accuracy: 0.9028\n",
            "\n",
            "Epoch 00079: val_accuracy did not improve from 1.00000\n",
            "Epoch 80/100\n",
            "576/576 [==============================] - 0s 484us/step - loss: 0.1103 - accuracy: 0.9635 - val_loss: 0.0573 - val_accuracy: 0.9722\n",
            "\n",
            "Epoch 00080: val_accuracy did not improve from 1.00000\n",
            "Epoch 81/100\n",
            "576/576 [==============================] - 0s 468us/step - loss: 0.0630 - accuracy: 0.9774 - val_loss: 0.0442 - val_accuracy: 1.0000\n",
            "\n",
            "Epoch 00081: val_accuracy did not improve from 1.00000\n",
            "Epoch 82/100\n",
            "576/576 [==============================] - 0s 511us/step - loss: 0.0646 - accuracy: 0.9792 - val_loss: 0.0455 - val_accuracy: 1.0000\n",
            "\n",
            "Epoch 00082: val_accuracy did not improve from 1.00000\n",
            "Epoch 83/100\n",
            "576/576 [==============================] - 0s 487us/step - loss: 0.0607 - accuracy: 0.9809 - val_loss: 0.2077 - val_accuracy: 0.9167\n",
            "\n",
            "Epoch 00083: val_accuracy did not improve from 1.00000\n",
            "Epoch 84/100\n",
            "576/576 [==============================] - 0s 481us/step - loss: 0.0736 - accuracy: 0.9792 - val_loss: 0.0516 - val_accuracy: 1.0000\n",
            "\n",
            "Epoch 00084: val_accuracy did not improve from 1.00000\n",
            "Epoch 85/100\n",
            "576/576 [==============================] - 0s 473us/step - loss: 0.1012 - accuracy: 0.9635 - val_loss: 0.2299 - val_accuracy: 0.8819\n",
            "\n",
            "Epoch 00085: val_accuracy did not improve from 1.00000\n",
            "Epoch 86/100\n",
            "576/576 [==============================] - 0s 471us/step - loss: 0.0685 - accuracy: 0.9740 - val_loss: 0.2073 - val_accuracy: 0.8889\n",
            "\n",
            "Epoch 00086: val_accuracy did not improve from 1.00000\n",
            "Epoch 87/100\n",
            "576/576 [==============================] - 0s 502us/step - loss: 0.0517 - accuracy: 0.9809 - val_loss: 0.0886 - val_accuracy: 0.9653\n",
            "\n",
            "Epoch 00087: val_accuracy did not improve from 1.00000\n",
            "Epoch 88/100\n",
            "576/576 [==============================] - 0s 501us/step - loss: 0.0654 - accuracy: 0.9740 - val_loss: 0.0334 - val_accuracy: 1.0000\n",
            "\n",
            "Epoch 00088: val_accuracy did not improve from 1.00000\n",
            "Epoch 89/100\n",
            "576/576 [==============================] - 0s 500us/step - loss: 0.0774 - accuracy: 0.9705 - val_loss: 0.1438 - val_accuracy: 0.9375\n",
            "\n",
            "Epoch 00089: val_accuracy did not improve from 1.00000\n",
            "Epoch 90/100\n",
            "576/576 [==============================] - 0s 502us/step - loss: 0.0635 - accuracy: 0.9809 - val_loss: 0.1207 - val_accuracy: 0.9375\n",
            "\n",
            "Epoch 00090: val_accuracy did not improve from 1.00000\n",
            "Epoch 91/100\n",
            "576/576 [==============================] - 0s 509us/step - loss: 0.0635 - accuracy: 0.9774 - val_loss: 0.1858 - val_accuracy: 0.9236\n",
            "\n",
            "Epoch 00091: val_accuracy did not improve from 1.00000\n",
            "Epoch 92/100\n",
            "576/576 [==============================] - 0s 493us/step - loss: 0.0618 - accuracy: 0.9774 - val_loss: 0.1741 - val_accuracy: 0.9306\n",
            "\n",
            "Epoch 00092: val_accuracy did not improve from 1.00000\n",
            "Epoch 93/100\n",
            "576/576 [==============================] - 0s 480us/step - loss: 0.0611 - accuracy: 0.9757 - val_loss: 0.0786 - val_accuracy: 0.9653\n",
            "\n",
            "Epoch 00093: val_accuracy did not improve from 1.00000\n",
            "Epoch 94/100\n",
            "576/576 [==============================] - 0s 494us/step - loss: 0.0443 - accuracy: 0.9878 - val_loss: 0.0678 - val_accuracy: 0.9722\n",
            "\n",
            "Epoch 00094: val_accuracy did not improve from 1.00000\n",
            "Epoch 95/100\n",
            "576/576 [==============================] - 0s 475us/step - loss: 0.0479 - accuracy: 0.9844 - val_loss: 0.0559 - val_accuracy: 0.9792\n",
            "\n",
            "Epoch 00095: val_accuracy did not improve from 1.00000\n",
            "Epoch 96/100\n",
            "576/576 [==============================] - 0s 481us/step - loss: 0.0966 - accuracy: 0.9635 - val_loss: 0.0584 - val_accuracy: 0.9861\n",
            "\n",
            "Epoch 00096: val_accuracy did not improve from 1.00000\n",
            "Epoch 97/100\n",
            "576/576 [==============================] - 0s 479us/step - loss: 0.0543 - accuracy: 0.9757 - val_loss: 0.0722 - val_accuracy: 0.9653\n",
            "\n",
            "Epoch 00097: val_accuracy did not improve from 1.00000\n",
            "Epoch 98/100\n",
            "576/576 [==============================] - 0s 487us/step - loss: 0.0900 - accuracy: 0.9670 - val_loss: 0.0328 - val_accuracy: 1.0000\n",
            "\n",
            "Epoch 00098: val_accuracy did not improve from 1.00000\n",
            "Epoch 99/100\n",
            "576/576 [==============================] - 0s 484us/step - loss: 0.0635 - accuracy: 0.9705 - val_loss: 0.0843 - val_accuracy: 0.9722\n",
            "\n",
            "Epoch 00099: val_accuracy did not improve from 1.00000\n",
            "Epoch 100/100\n",
            "576/576 [==============================] - 0s 516us/step - loss: 0.0459 - accuracy: 0.9896 - val_loss: 0.0941 - val_accuracy: 0.9444\n",
            "\n",
            "Epoch 00100: val_accuracy did not improve from 1.00000\n"
          ],
          "name": "stdout"
        },
        {
          "output_type": "execute_result",
          "data": {
            "text/plain": [
              "<keras.callbacks.callbacks.History at 0x7fd883c5d8d0>"
            ]
          },
          "metadata": {
            "tags": []
          },
          "execution_count": 68
        }
      ]
    },
    {
      "cell_type": "code",
      "metadata": {
        "id": "kyhPgXl0sa7M",
        "colab_type": "code",
        "colab": {
          "base_uri": "https://localhost:8080/",
          "height": 178
        },
        "outputId": "0606a57f-199e-4117-864d-9c9a3418ff62"
      },
      "source": [
        "# RF baseline Train and test \n",
        "random_state = np.random.RandomState(0)\n",
        "model = RandomForestClassifier(n_estimators=50,max_depth=10, random_state=random_state,verbose=0,n_jobs=-1)\n",
        "model.fit(X_train,y_train_res)"
      ],
      "execution_count": null,
      "outputs": [
        {
          "output_type": "execute_result",
          "data": {
            "text/plain": [
              "RandomForestClassifier(bootstrap=True, ccp_alpha=0.0, class_weight=None,\n",
              "                       criterion='gini', max_depth=10, max_features='auto',\n",
              "                       max_leaf_nodes=None, max_samples=None,\n",
              "                       min_impurity_decrease=0.0, min_impurity_split=None,\n",
              "                       min_samples_leaf=1, min_samples_split=2,\n",
              "                       min_weight_fraction_leaf=0.0, n_estimators=50, n_jobs=-1,\n",
              "                       oob_score=False,\n",
              "                       random_state=RandomState(MT19937) at 0x7FAF8A983888,\n",
              "                       verbose=0, warm_start=False)"
            ]
          },
          "metadata": {
            "tags": []
          },
          "execution_count": 31
        }
      ]
    },
    {
      "cell_type": "code",
      "metadata": {
        "id": "qGRTlvOTQJVl",
        "colab_type": "code",
        "colab": {
          "base_uri": "https://localhost:8080/",
          "height": 160
        },
        "outputId": "6db2489e-787c-4676-fc07-1935e8c46b76"
      },
      "source": [
        "# SVM baseline Train and Test\n",
        "model = OneVsRestClassifier(svm.SVC(kernel='rbf', C= 100, gamma = .001, probability=True,\n",
        "                                 random_state=random_state))\n",
        "model.fit(X_train,y_train_res)"
      ],
      "execution_count": null,
      "outputs": [
        {
          "output_type": "execute_result",
          "data": {
            "text/plain": [
              "OneVsRestClassifier(estimator=SVC(C=100, break_ties=False, cache_size=200,\n",
              "                                  class_weight=None, coef0=0.0,\n",
              "                                  decision_function_shape='ovr', degree=3,\n",
              "                                  gamma=0.001, kernel='rbf', max_iter=-1,\n",
              "                                  probability=True,\n",
              "                                  random_state=RandomState(MT19937) at 0x7FAF8A983888,\n",
              "                                  shrinking=True, tol=0.001, verbose=False),\n",
              "                    n_jobs=None)"
            ]
          },
          "metadata": {
            "tags": []
          },
          "execution_count": 34
        }
      ]
    },
    {
      "cell_type": "markdown",
      "metadata": {
        "id": "JPcN8Py_p2Ov",
        "colab_type": "text"
      },
      "source": [
        "# ODM predictions"
      ]
    },
    {
      "cell_type": "code",
      "metadata": {
        "id": "SMGC71aImmzd",
        "colab_type": "code",
        "colab": {
          "base_uri": "https://localhost:8080/",
          "height": 272
        },
        "outputId": "eb94b09f-9881-43c5-995a-12cf3ae0619c"
      },
      "source": [
        "# compare preds to ground truth\n",
        "odm_truth = pd.read_csv('/content/drive/My Drive/2019-McGill-Mutants/ODM_predictions.csv')\n",
        "y_true = odm_truth['Ground truth']\n",
        "y_pred = odm_truth['Predicted']\n",
        "\n",
        "report = classification_report(y_true, y_pred, output_dict=True,zero_division=0)\n",
        "print(\"Test Report\", report)\n",
        "cr = pd.DataFrame(report).transpose()\n",
        "cr"
      ],
      "execution_count": null,
      "outputs": [
        {
          "output_type": "stream",
          "text": [
            "Test Report {'0': {'precision': 1.0, 'recall': 0.9230769230769231, 'f1-score': 0.9600000000000001, 'support': 13}, '1': {'precision': 0.967741935483871, 'recall': 0.967741935483871, 'f1-score': 0.967741935483871, 'support': 31}, '3': {'precision': 0.0, 'recall': 0.0, 'f1-score': 0.0, 'support': 0}, 'accuracy': 0.9545454545454546, 'macro avg': {'precision': 0.6559139784946236, 'recall': 0.6302729528535981, 'f1-score': 0.6425806451612903, 'support': 44}, 'weighted avg': {'precision': 0.9772727272727273, 'recall': 0.9545454545454546, 'f1-score': 0.9654545454545456, 'support': 44}}\n"
          ],
          "name": "stdout"
        },
        {
          "output_type": "execute_result",
          "data": {
            "text/html": [
              "<div>\n",
              "<style scoped>\n",
              "    .dataframe tbody tr th:only-of-type {\n",
              "        vertical-align: middle;\n",
              "    }\n",
              "\n",
              "    .dataframe tbody tr th {\n",
              "        vertical-align: top;\n",
              "    }\n",
              "\n",
              "    .dataframe thead th {\n",
              "        text-align: right;\n",
              "    }\n",
              "</style>\n",
              "<table border=\"1\" class=\"dataframe\">\n",
              "  <thead>\n",
              "    <tr style=\"text-align: right;\">\n",
              "      <th></th>\n",
              "      <th>precision</th>\n",
              "      <th>recall</th>\n",
              "      <th>f1-score</th>\n",
              "      <th>support</th>\n",
              "    </tr>\n",
              "  </thead>\n",
              "  <tbody>\n",
              "    <tr>\n",
              "      <th>0</th>\n",
              "      <td>1.000000</td>\n",
              "      <td>0.923077</td>\n",
              "      <td>0.960000</td>\n",
              "      <td>13.000000</td>\n",
              "    </tr>\n",
              "    <tr>\n",
              "      <th>1</th>\n",
              "      <td>0.967742</td>\n",
              "      <td>0.967742</td>\n",
              "      <td>0.967742</td>\n",
              "      <td>31.000000</td>\n",
              "    </tr>\n",
              "    <tr>\n",
              "      <th>3</th>\n",
              "      <td>0.000000</td>\n",
              "      <td>0.000000</td>\n",
              "      <td>0.000000</td>\n",
              "      <td>0.000000</td>\n",
              "    </tr>\n",
              "    <tr>\n",
              "      <th>accuracy</th>\n",
              "      <td>0.954545</td>\n",
              "      <td>0.954545</td>\n",
              "      <td>0.954545</td>\n",
              "      <td>0.954545</td>\n",
              "    </tr>\n",
              "    <tr>\n",
              "      <th>macro avg</th>\n",
              "      <td>0.655914</td>\n",
              "      <td>0.630273</td>\n",
              "      <td>0.642581</td>\n",
              "      <td>44.000000</td>\n",
              "    </tr>\n",
              "    <tr>\n",
              "      <th>weighted avg</th>\n",
              "      <td>0.977273</td>\n",
              "      <td>0.954545</td>\n",
              "      <td>0.965455</td>\n",
              "      <td>44.000000</td>\n",
              "    </tr>\n",
              "  </tbody>\n",
              "</table>\n",
              "</div>"
            ],
            "text/plain": [
              "              precision    recall  f1-score    support\n",
              "0              1.000000  0.923077  0.960000  13.000000\n",
              "1              0.967742  0.967742  0.967742  31.000000\n",
              "3              0.000000  0.000000  0.000000   0.000000\n",
              "accuracy       0.954545  0.954545  0.954545   0.954545\n",
              "macro avg      0.655914  0.630273  0.642581  44.000000\n",
              "weighted avg   0.977273  0.954545  0.965455  44.000000"
            ]
          },
          "metadata": {
            "tags": []
          },
          "execution_count": 19
        }
      ]
    },
    {
      "cell_type": "code",
      "metadata": {
        "id": "VsJ0BHTaGtvk",
        "colab_type": "code",
        "colab": {}
      },
      "source": [
        "# predict on ODM external validation set \n",
        "saved_model = load_model('best_model.h5')\n",
        "odm_pred = saved_model.predict(X_test)\n",
        "pred_classes = np.argmax(odm_pred, axis=1)\n",
        "odm_pred_classes = pd.DataFrame(pred_classes,index=odm_zscales.index)\n",
        "#odm_pred_classes.to_csv('/content/drive/My Drive/2019-McGill-Mutants/ODM_predictions.csv')\n",
        "\n"
      ],
      "execution_count": null,
      "outputs": []
    },
    {
      "cell_type": "markdown",
      "metadata": {
        "id": "NfXSeH_qcnU4",
        "colab_type": "text"
      },
      "source": [
        "# Evaluate model and produce results"
      ]
    },
    {
      "cell_type": "code",
      "metadata": {
        "id": "56pJbjIJi1nV",
        "colab_type": "code",
        "colab": {
          "base_uri": "https://localhost:8080/",
          "height": 35
        },
        "outputId": "b458c750-b9cf-4000-ac02-154277d0d2ec"
      },
      "source": [
        "# Train and test accuracy \n",
        "model = load_model('best_model.h5')\n",
        "_, train_acc = model.evaluate(X_train, y_train_res, verbose=0)\n",
        "_, test_acc = model.evaluate(X_test, y_test, verbose=0)\n",
        "print('Train: %.3f, Test: %.3f' % (train_acc, test_acc))"
      ],
      "execution_count": null,
      "outputs": [
        {
          "output_type": "stream",
          "text": [
            "Train: 0.984, Test: 0.772\n"
          ],
          "name": "stdout"
        }
      ]
    },
    {
      "cell_type": "code",
      "metadata": {
        "id": "2AG6tpaCuQOr",
        "colab_type": "code",
        "colab": {
          "base_uri": "https://localhost:8080/",
          "height": 307
        },
        "outputId": "81834301-faf3-4e60-ce6c-a07a3254474f"
      },
      "source": [
        "# get results and report\n",
        "y_pred_train = model.predict_proba(X_train)\n",
        "y_pred_test = model.predict_proba(X_test)\n",
        "\n",
        "# report accuracy\n",
        "y_pred = np.argmax(y_pred_test, axis=1)\n",
        "y_true = np.argmax(y_test, axis=1)\n",
        "report = classification_report(y_true, y_pred, output_dict=True)\n",
        "print(\"Test Report\", report)\n",
        "cr = pd.DataFrame(report).transpose()\n",
        "cr.to_csv('DNN_class_report.csv')\n",
        "cr"
      ],
      "execution_count": null,
      "outputs": [
        {
          "output_type": "stream",
          "text": [
            "Test Report {'0': {'precision': 1.0, 'recall': 0.8571428571428571, 'f1-score': 0.923076923076923, 'support': 7}, '1': {'precision': 0.9032258064516129, 'recall': 0.8484848484848485, 'f1-score': 0.875, 'support': 33}, '2': {'precision': 0.5, 'recall': 0.25, 'f1-score': 0.3333333333333333, 'support': 4}, '3': {'precision': 0.5, 'recall': 0.6923076923076923, 'f1-score': 0.5806451612903226, 'support': 13}, 'accuracy': 0.7719298245614035, 'macro avg': {'precision': 0.7258064516129032, 'recall': 0.6619838494838495, 'f1-score': 0.6780138544251447, 'support': 57}, 'weighted avg': {'precision': 0.7948500282965478, 'recall': 0.7719298245614035, 'f1-score': 0.7757589279236138, 'support': 57}}\n"
          ],
          "name": "stdout"
        },
        {
          "output_type": "execute_result",
          "data": {
            "text/html": [
              "<div>\n",
              "<style scoped>\n",
              "    .dataframe tbody tr th:only-of-type {\n",
              "        vertical-align: middle;\n",
              "    }\n",
              "\n",
              "    .dataframe tbody tr th {\n",
              "        vertical-align: top;\n",
              "    }\n",
              "\n",
              "    .dataframe thead th {\n",
              "        text-align: right;\n",
              "    }\n",
              "</style>\n",
              "<table border=\"1\" class=\"dataframe\">\n",
              "  <thead>\n",
              "    <tr style=\"text-align: right;\">\n",
              "      <th></th>\n",
              "      <th>precision</th>\n",
              "      <th>recall</th>\n",
              "      <th>f1-score</th>\n",
              "      <th>support</th>\n",
              "    </tr>\n",
              "  </thead>\n",
              "  <tbody>\n",
              "    <tr>\n",
              "      <th>0</th>\n",
              "      <td>1.000000</td>\n",
              "      <td>0.857143</td>\n",
              "      <td>0.923077</td>\n",
              "      <td>7.00000</td>\n",
              "    </tr>\n",
              "    <tr>\n",
              "      <th>1</th>\n",
              "      <td>0.903226</td>\n",
              "      <td>0.848485</td>\n",
              "      <td>0.875000</td>\n",
              "      <td>33.00000</td>\n",
              "    </tr>\n",
              "    <tr>\n",
              "      <th>2</th>\n",
              "      <td>0.500000</td>\n",
              "      <td>0.250000</td>\n",
              "      <td>0.333333</td>\n",
              "      <td>4.00000</td>\n",
              "    </tr>\n",
              "    <tr>\n",
              "      <th>3</th>\n",
              "      <td>0.500000</td>\n",
              "      <td>0.692308</td>\n",
              "      <td>0.580645</td>\n",
              "      <td>13.00000</td>\n",
              "    </tr>\n",
              "    <tr>\n",
              "      <th>accuracy</th>\n",
              "      <td>0.771930</td>\n",
              "      <td>0.771930</td>\n",
              "      <td>0.771930</td>\n",
              "      <td>0.77193</td>\n",
              "    </tr>\n",
              "    <tr>\n",
              "      <th>macro avg</th>\n",
              "      <td>0.725806</td>\n",
              "      <td>0.661984</td>\n",
              "      <td>0.678014</td>\n",
              "      <td>57.00000</td>\n",
              "    </tr>\n",
              "    <tr>\n",
              "      <th>weighted avg</th>\n",
              "      <td>0.794850</td>\n",
              "      <td>0.771930</td>\n",
              "      <td>0.775759</td>\n",
              "      <td>57.00000</td>\n",
              "    </tr>\n",
              "  </tbody>\n",
              "</table>\n",
              "</div>"
            ],
            "text/plain": [
              "              precision    recall  f1-score   support\n",
              "0              1.000000  0.857143  0.923077   7.00000\n",
              "1              0.903226  0.848485  0.875000  33.00000\n",
              "2              0.500000  0.250000  0.333333   4.00000\n",
              "3              0.500000  0.692308  0.580645  13.00000\n",
              "accuracy       0.771930  0.771930  0.771930   0.77193\n",
              "macro avg      0.725806  0.661984  0.678014  57.00000\n",
              "weighted avg   0.794850  0.771930  0.775759  57.00000"
            ]
          },
          "metadata": {
            "tags": []
          },
          "execution_count": 39
        }
      ]
    },
    {
      "cell_type": "code",
      "metadata": {
        "id": "4CCbMwXLtYWk",
        "colab_type": "code",
        "colab": {
          "base_uri": "https://localhost:8080/",
          "height": 71
        },
        "outputId": "2e965aa0-c909-44fc-93bf-2b20a1e8ea4b"
      },
      "source": [
        "y_pred"
      ],
      "execution_count": null,
      "outputs": [
        {
          "output_type": "execute_result",
          "data": {
            "text/plain": [
              "array([0, 0, 1, 1, 1, 3, 1, 3, 1, 3, 1, 1, 3, 3, 2, 1, 3, 1, 3, 1, 1, 1,\n",
              "       1, 1, 1, 1, 0, 0, 0, 1, 3, 1, 3, 1, 3, 1, 1, 3, 3, 3, 3, 0, 1, 1,\n",
              "       1, 1, 1, 1, 1, 1, 3, 1, 3, 1, 1, 3, 1])"
            ]
          },
          "metadata": {
            "tags": []
          },
          "execution_count": 25
        }
      ]
    },
    {
      "cell_type": "markdown",
      "metadata": {
        "id": "OcvjwxS9ERnX",
        "colab_type": "text"
      },
      "source": [
        "#Plot confusion matrix"
      ]
    },
    {
      "cell_type": "code",
      "metadata": {
        "id": "dyXaalId-wJc",
        "colab_type": "code",
        "colab": {
          "base_uri": "https://localhost:8080/",
          "height": 279
        },
        "outputId": "c3270826-e484-4018-9ebc-e3ec72bd0e10"
      },
      "source": [
        "from mlxtend.evaluate import confusion_matrix\n",
        "import matplotlib.pyplot as plt\n",
        "from mlxtend.plotting import plot_confusion_matrix\n",
        "\n",
        "cm = confusion_matrix(y_target=y_true, \n",
        "                      y_predicted=y_pred, \n",
        "                      binary=False)\n",
        "\n",
        "\n",
        "fig, ax = plot_confusion_matrix(conf_mat=cm)\n",
        "ax.set_xticklabels(['','non-resp.','antag.', 'agonist', 'mixed'])\n",
        "ax.set_yticklabels(['','non-resp.','antag.', 'agonist', 'mixed'])\n",
        "plt.savefig('SVM_test_CM.eps',dpi=300)\n",
        "plt.show()"
      ],
      "execution_count": null,
      "outputs": [
        {
          "output_type": "display_data",
          "data": {
            "image/png": "[encoded data removed]",
            "text/plain": [
              "<Figure size 432x288 with 1 Axes>"
            ]
          },
          "metadata": {
            "tags": []
          }
        }
      ]
    },
    {
      "cell_type": "code",
      "metadata": {
        "id": "w5ulahrDw-Lc",
        "colab_type": "code",
        "colab": {}
      },
      "source": [
        ""
      ],
      "execution_count": null,
      "outputs": []
    },
    {
      "cell_type": "markdown",
      "metadata": {
        "id": "nD9pYQsPp8Ul",
        "colab_type": "text"
      },
      "source": [
        "# ROC curve with baselines"
      ]
    },
    {
      "cell_type": "code",
      "metadata": {
        "colab_type": "code",
        "id": "td5_e9UI_oOQ",
        "colab": {
          "base_uri": "https://localhost:8080/",
          "height": 1000
        },
        "outputId": "c7230da5-daa8-4cd8-d988-4063df12197c"
      },
      "source": [
        "\n",
        "fig = plt.figure(figsize=(15,8))\n",
        "random_state = np.random.RandomState(0)\n",
        "\n",
        "kfold = KFold(n_splits=5, random_state=random_state, shuffle=True)\n",
        "\n",
        "\n",
        "# Define baselines and NN \n",
        "svm_clf = OneVsRestClassifier(svm.SVC(kernel='rbf', C= 100, gamma = .001, probability=True,\n",
        "                                 random_state=random_state))\n",
        "rf_clf =  OneVsRestClassifier(RandomForestClassifier(n_estimators=50,max_depth=10, random_state=random_state,verbose=0,n_jobs=-1))\n",
        "NN_clf = KerasClassifier(build_fn=create_model)\n",
        "\n",
        "# DNN model callbacks \n",
        "early_stopping = EarlyStopping(monitor='val_loss', patience=20, verbose=0, mode='auto')\n",
        "mc = ModelCheckpoint(filepath='./best_model.h5', monitor='val_acc', mode='auto', verbose=0, save_best_only=True)\n",
        "\n",
        "names = ['SVM', 'RF', 'DNN']\n",
        "classifiers = [svm_clf, rf_clf, NN_clf]\n",
        "\n",
        "for i, classifier in enumerate(classifiers):\n",
        "    tprs = []\n",
        "    aucs = []\n",
        "\n",
        "    fold = 0\n",
        "    for train, test in kfold.split(X, dummy_y):\n",
        "        X_train_res, y_train_res = BorderlineSMOTE().fit_resample(X.iloc[train,:], dummy_y[train,:])\n",
        "        \n",
        "        X_train_trans = ct.fit_transform(X_train_res)\n",
        "        X_test_trans = ct.transform(X.iloc[test,:])\n",
        "        X_train = np.hstack((X_train_res[:,:210],X_train_trans))\n",
        "        X_test = np.hstack((X.iloc[test,:210],X_test_trans))\n",
        "\n",
        "        if classifier == NN_clf:\n",
        "            classifier.fit(X_train, y_train_res,callbacks=[early_stopping,mc],epochs=100,validation_split=0.2)\n",
        "            #classifier = load_model('best_model.h5')\n",
        "            probas_ = classifier.predict_proba(X_test)\n",
        "        elif classifier == rf_clf:\n",
        "            probas_ = classifier.fit(X_train, y_train_res).predict_proba(X_test)\n",
        "        elif classifier == svm_clf:\n",
        "            probas_ = classifier.fit(X_train, y_train_res).decision_function(X_test)   \n",
        "        \n",
        "        # Compute ROC curve and ROC area for each class\n",
        "        fpr = dict()\n",
        "        tpr = dict()\n",
        "        roc_auc = dict()\n",
        "        #for i in range(4):\n",
        "            #fpr[i], tpr[i], _ = roc_curve(y_train_res[test, i], probas_[:, i])\n",
        "            #roc_auc[i] = roc_auc_score(y_train_res[test, i], probas_[:, i],average='weighted')\n",
        "\n",
        "        # Compute micro-average ROC curve and ROC area\n",
        "        fpr[\"micro\"], tpr[\"micro\"], _ = roc_curve(dummy_y[test].ravel(), probas_.ravel())\n",
        "        roc_auc[\"micro\"] = auc(fpr[\"micro\"], tpr[\"micro\"])\n",
        "        roc_auc['micro'] = roc_auc_score(dummy_y[test], probas_,average='weighted')\n",
        "        \n",
        "        mean_fpr = np.linspace(0, 1, 100)\n",
        "\n",
        "        # append to list and plot for each fold\n",
        "        tprs.append(interp(mean_fpr, fpr['micro'], tpr['micro']))\n",
        "        tprs[-1][0] = 0.0\n",
        "        aucs.append(roc_auc[\"micro\"])\n",
        "        #plt.plot(fpr['micro'], tpr['micro'], lw=2, alpha=0.3,\n",
        "         #       label='ROC fold %d (AUC = %0.2f)' % (fold+1, roc_auc[\"micro\"]))\n",
        "        \n",
        "        fold += 1\n",
        "\n",
        "    mean_tpr_cv = np.mean(tprs, axis=0)\n",
        "    mean_tpr_cv[-1] = 1.0\n",
        "    mean_auc = auc(mean_fpr, mean_tpr_cv)\n",
        "    std_auc = np.std(aucs)\n",
        "    plt.plot(mean_fpr, mean_tpr_cv,\n",
        "            label=r'%s ROC (AUC = %0.2f $\\pm$ %0.2f)' % (names[i], mean_auc, std_auc),\n",
        "            lw=2, alpha=.8)\n",
        "\n",
        "    std_tpr = np.std(tprs, axis=0)\n",
        "    tprs_upper = np.minimum(mean_tpr_cv + std_tpr, 1)\n",
        "    tprs_lower = np.maximum(mean_tpr_cv - std_tpr, 0)\n",
        "    plt.fill_between(mean_fpr, tprs_lower, tprs_upper, color='grey', alpha=.2)\n",
        "                    #,label=r'$\\pm$ 1 std. dev.')\n",
        "\n",
        "plt.plot([0, 1], [0, 1], linestyle='--', lw=2, color='r',\n",
        "            label='Chance', alpha=.8)\n",
        "plt.xlim([-0.05, 1.05])\n",
        "plt.ylim([-0.05, 1.05])\n"
      ],
      "execution_count": null,
      "outputs": [
        {
          "output_type": "stream",
          "text": [
            "/usr/local/lib/python3.6/dist-packages/sklearn/utils/deprecation.py:87: FutureWarning: Function safe_indexing is deprecated; safe_indexing is deprecated in version 0.22 and will be removed in version 0.24.\n",
            "  warnings.warn(msg, category=FutureWarning)\n",
            "/usr/local/lib/python3.6/dist-packages/sklearn/utils/deprecation.py:87: FutureWarning: Function safe_indexing is deprecated; safe_indexing is deprecated in version 0.22 and will be removed in version 0.24.\n",
            "  warnings.warn(msg, category=FutureWarning)\n",
            "/usr/local/lib/python3.6/dist-packages/sklearn/utils/deprecation.py:87: FutureWarning: Function safe_indexing is deprecated; safe_indexing is deprecated in version 0.22 and will be removed in version 0.24.\n",
            "  warnings.warn(msg, category=FutureWarning)\n",
            "/usr/local/lib/python3.6/dist-packages/sklearn/utils/deprecation.py:87: FutureWarning: Function safe_indexing is deprecated; safe_indexing is deprecated in version 0.22 and will be removed in version 0.24.\n",
            "  warnings.warn(msg, category=FutureWarning)\n",
            "/usr/local/lib/python3.6/dist-packages/sklearn/utils/deprecation.py:87: FutureWarning: Function safe_indexing is deprecated; safe_indexing is deprecated in version 0.22 and will be removed in version 0.24.\n",
            "  warnings.warn(msg, category=FutureWarning)\n",
            "/usr/local/lib/python3.6/dist-packages/sklearn/utils/deprecation.py:87: FutureWarning: Function safe_indexing is deprecated; safe_indexing is deprecated in version 0.22 and will be removed in version 0.24.\n",
            "  warnings.warn(msg, category=FutureWarning)\n",
            "/usr/local/lib/python3.6/dist-packages/sklearn/utils/deprecation.py:87: FutureWarning: Function safe_indexing is deprecated; safe_indexing is deprecated in version 0.22 and will be removed in version 0.24.\n",
            "  warnings.warn(msg, category=FutureWarning)\n"
          ],
          "name": "stderr"
        },
        {
          "output_type": "stream",
          "text": [
            "[ColumnTransformer]  (1 of 1) Processing standardscaler, total=   0.0s\n"
          ],
          "name": "stdout"
        },
        {
          "output_type": "stream",
          "text": [
            "/usr/local/lib/python3.6/dist-packages/ipykernel_launcher.py:59: DeprecationWarning: scipy.interp is deprecated and will be removed in SciPy 2.0.0, use numpy.interp instead\n",
            "/usr/local/lib/python3.6/dist-packages/sklearn/utils/deprecation.py:87: FutureWarning: Function safe_indexing is deprecated; safe_indexing is deprecated in version 0.22 and will be removed in version 0.24.\n",
            "  warnings.warn(msg, category=FutureWarning)\n",
            "/usr/local/lib/python3.6/dist-packages/sklearn/utils/deprecation.py:87: FutureWarning: Function safe_indexing is deprecated; safe_indexing is deprecated in version 0.22 and will be removed in version 0.24.\n",
            "  warnings.warn(msg, category=FutureWarning)\n",
            "/usr/local/lib/python3.6/dist-packages/sklearn/utils/deprecation.py:87: FutureWarning: Function safe_indexing is deprecated; safe_indexing is deprecated in version 0.22 and will be removed in version 0.24.\n",
            "  warnings.warn(msg, category=FutureWarning)\n",
            "/usr/local/lib/python3.6/dist-packages/sklearn/utils/deprecation.py:87: FutureWarning: Function safe_indexing is deprecated; safe_indexing is deprecated in version 0.22 and will be removed in version 0.24.\n",
            "  warnings.warn(msg, category=FutureWarning)\n",
            "/usr/local/lib/python3.6/dist-packages/sklearn/utils/deprecation.py:87: FutureWarning: Function safe_indexing is deprecated; safe_indexing is deprecated in version 0.22 and will be removed in version 0.24.\n",
            "  warnings.warn(msg, category=FutureWarning)\n",
            "/usr/local/lib/python3.6/dist-packages/sklearn/utils/deprecation.py:87: FutureWarning: Function safe_indexing is deprecated; safe_indexing is deprecated in version 0.22 and will be removed in version 0.24.\n",
            "  warnings.warn(msg, category=FutureWarning)\n",
            "/usr/local/lib/python3.6/dist-packages/sklearn/utils/deprecation.py:87: FutureWarning: Function safe_indexing is deprecated; safe_indexing is deprecated in version 0.22 and will be removed in version 0.24.\n",
            "  warnings.warn(msg, category=FutureWarning)\n"
          ],
          "name": "stderr"
        },
        {
          "output_type": "stream",
          "text": [
            "[ColumnTransformer]  (1 of 1) Processing standardscaler, total=   0.0s\n"
          ],
          "name": "stdout"
        },
        {
          "output_type": "stream",
          "text": [
            "/usr/local/lib/python3.6/dist-packages/ipykernel_launcher.py:59: DeprecationWarning: scipy.interp is deprecated and will be removed in SciPy 2.0.0, use numpy.interp instead\n",
            "/usr/local/lib/python3.6/dist-packages/sklearn/utils/deprecation.py:87: FutureWarning: Function safe_indexing is deprecated; safe_indexing is deprecated in version 0.22 and will be removed in version 0.24.\n",
            "  warnings.warn(msg, category=FutureWarning)\n",
            "/usr/local/lib/python3.6/dist-packages/sklearn/utils/deprecation.py:87: FutureWarning: Function safe_indexing is deprecated; safe_indexing is deprecated in version 0.22 and will be removed in version 0.24.\n",
            "  warnings.warn(msg, category=FutureWarning)\n",
            "/usr/local/lib/python3.6/dist-packages/sklearn/utils/deprecation.py:87: FutureWarning: Function safe_indexing is deprecated; safe_indexing is deprecated in version 0.22 and will be removed in version 0.24.\n",
            "  warnings.warn(msg, category=FutureWarning)\n",
            "/usr/local/lib/python3.6/dist-packages/sklearn/utils/deprecation.py:87: FutureWarning: Function safe_indexing is deprecated; safe_indexing is deprecated in version 0.22 and will be removed in version 0.24.\n",
            "  warnings.warn(msg, category=FutureWarning)\n",
            "/usr/local/lib/python3.6/dist-packages/sklearn/utils/deprecation.py:87: FutureWarning: Function safe_indexing is deprecated; safe_indexing is deprecated in version 0.22 and will be removed in version 0.24.\n",
            "  warnings.warn(msg, category=FutureWarning)\n",
            "/usr/local/lib/python3.6/dist-packages/sklearn/utils/deprecation.py:87: FutureWarning: Function safe_indexing is deprecated; safe_indexing is deprecated in version 0.22 and will be removed in version 0.24.\n",
            "  warnings.warn(msg, category=FutureWarning)\n",
            "/usr/local/lib/python3.6/dist-packages/sklearn/utils/deprecation.py:87: FutureWarning: Function safe_indexing is deprecated; safe_indexing is deprecated in version 0.22 and will be removed in version 0.24.\n",
            "  warnings.warn(msg, category=FutureWarning)\n"
          ],
          "name": "stderr"
        },
        {
          "output_type": "stream",
          "text": [
            "[ColumnTransformer]  (1 of 1) Processing standardscaler, total=   0.0s\n"
          ],
          "name": "stdout"
        },
        {
          "output_type": "stream",
          "text": [
            "/usr/local/lib/python3.6/dist-packages/ipykernel_launcher.py:59: DeprecationWarning: scipy.interp is deprecated and will be removed in SciPy 2.0.0, use numpy.interp instead\n",
            "/usr/local/lib/python3.6/dist-packages/sklearn/utils/deprecation.py:87: FutureWarning: Function safe_indexing is deprecated; safe_indexing is deprecated in version 0.22 and will be removed in version 0.24.\n",
            "  warnings.warn(msg, category=FutureWarning)\n",
            "/usr/local/lib/python3.6/dist-packages/sklearn/utils/deprecation.py:87: FutureWarning: Function safe_indexing is deprecated; safe_indexing is deprecated in version 0.22 and will be removed in version 0.24.\n",
            "  warnings.warn(msg, category=FutureWarning)\n",
            "/usr/local/lib/python3.6/dist-packages/sklearn/utils/deprecation.py:87: FutureWarning: Function safe_indexing is deprecated; safe_indexing is deprecated in version 0.22 and will be removed in version 0.24.\n",
            "  warnings.warn(msg, category=FutureWarning)\n",
            "/usr/local/lib/python3.6/dist-packages/sklearn/utils/deprecation.py:87: FutureWarning: Function safe_indexing is deprecated; safe_indexing is deprecated in version 0.22 and will be removed in version 0.24.\n",
            "  warnings.warn(msg, category=FutureWarning)\n",
            "/usr/local/lib/python3.6/dist-packages/sklearn/utils/deprecation.py:87: FutureWarning: Function safe_indexing is deprecated; safe_indexing is deprecated in version 0.22 and will be removed in version 0.24.\n",
            "  warnings.warn(msg, category=FutureWarning)\n",
            "/usr/local/lib/python3.6/dist-packages/sklearn/utils/deprecation.py:87: FutureWarning: Function safe_indexing is deprecated; safe_indexing is deprecated in version 0.22 and will be removed in version 0.24.\n",
            "  warnings.warn(msg, category=FutureWarning)\n",
            "/usr/local/lib/python3.6/dist-packages/sklearn/utils/deprecation.py:87: FutureWarning: Function safe_indexing is deprecated; safe_indexing is deprecated in version 0.22 and will be removed in version 0.24.\n",
            "  warnings.warn(msg, category=FutureWarning)\n"
          ],
          "name": "stderr"
        },
        {
          "output_type": "stream",
          "text": [
            "[ColumnTransformer]  (1 of 1) Processing standardscaler, total=   0.0s\n"
          ],
          "name": "stdout"
        },
        {
          "output_type": "stream",
          "text": [
            "/usr/local/lib/python3.6/dist-packages/ipykernel_launcher.py:59: DeprecationWarning: scipy.interp is deprecated and will be removed in SciPy 2.0.0, use numpy.interp instead\n",
            "/usr/local/lib/python3.6/dist-packages/sklearn/utils/deprecation.py:87: FutureWarning: Function safe_indexing is deprecated; safe_indexing is deprecated in version 0.22 and will be removed in version 0.24.\n",
            "  warnings.warn(msg, category=FutureWarning)\n",
            "/usr/local/lib/python3.6/dist-packages/sklearn/utils/deprecation.py:87: FutureWarning: Function safe_indexing is deprecated; safe_indexing is deprecated in version 0.22 and will be removed in version 0.24.\n",
            "  warnings.warn(msg, category=FutureWarning)\n",
            "/usr/local/lib/python3.6/dist-packages/sklearn/utils/deprecation.py:87: FutureWarning: Function safe_indexing is deprecated; safe_indexing is deprecated in version 0.22 and will be removed in version 0.24.\n",
            "  warnings.warn(msg, category=FutureWarning)\n",
            "/usr/local/lib/python3.6/dist-packages/sklearn/utils/deprecation.py:87: FutureWarning: Function safe_indexing is deprecated; safe_indexing is deprecated in version 0.22 and will be removed in version 0.24.\n",
            "  warnings.warn(msg, category=FutureWarning)\n",
            "/usr/local/lib/python3.6/dist-packages/sklearn/utils/deprecation.py:87: FutureWarning: Function safe_indexing is deprecated; safe_indexing is deprecated in version 0.22 and will be removed in version 0.24.\n",
            "  warnings.warn(msg, category=FutureWarning)\n",
            "/usr/local/lib/python3.6/dist-packages/sklearn/utils/deprecation.py:87: FutureWarning: Function safe_indexing is deprecated; safe_indexing is deprecated in version 0.22 and will be removed in version 0.24.\n",
            "  warnings.warn(msg, category=FutureWarning)\n",
            "/usr/local/lib/python3.6/dist-packages/sklearn/utils/deprecation.py:87: FutureWarning: Function safe_indexing is deprecated; safe_indexing is deprecated in version 0.22 and will be removed in version 0.24.\n",
            "  warnings.warn(msg, category=FutureWarning)\n"
          ],
          "name": "stderr"
        },
        {
          "output_type": "stream",
          "text": [
            "[ColumnTransformer]  (1 of 1) Processing standardscaler, total=   0.0s\n",
            "[ColumnTransformer]  (1 of 1) Processing standardscaler, total=   0.0s\n"
          ],
          "name": "stdout"
        },
        {
          "output_type": "stream",
          "text": [
            "/usr/local/lib/python3.6/dist-packages/ipykernel_launcher.py:59: DeprecationWarning: scipy.interp is deprecated and will be removed in SciPy 2.0.0, use numpy.interp instead\n",
            "/usr/local/lib/python3.6/dist-packages/sklearn/utils/deprecation.py:87: FutureWarning: Function safe_indexing is deprecated; safe_indexing is deprecated in version 0.22 and will be removed in version 0.24.\n",
            "  warnings.warn(msg, category=FutureWarning)\n",
            "/usr/local/lib/python3.6/dist-packages/sklearn/utils/deprecation.py:87: FutureWarning: Function safe_indexing is deprecated; safe_indexing is deprecated in version 0.22 and will be removed in version 0.24.\n",
            "  warnings.warn(msg, category=FutureWarning)\n",
            "/usr/local/lib/python3.6/dist-packages/sklearn/utils/deprecation.py:87: FutureWarning: Function safe_indexing is deprecated; safe_indexing is deprecated in version 0.22 and will be removed in version 0.24.\n",
            "  warnings.warn(msg, category=FutureWarning)\n",
            "/usr/local/lib/python3.6/dist-packages/sklearn/utils/deprecation.py:87: FutureWarning: Function safe_indexing is deprecated; safe_indexing is deprecated in version 0.22 and will be removed in version 0.24.\n",
            "  warnings.warn(msg, category=FutureWarning)\n",
            "/usr/local/lib/python3.6/dist-packages/sklearn/utils/deprecation.py:87: FutureWarning: Function safe_indexing is deprecated; safe_indexing is deprecated in version 0.22 and will be removed in version 0.24.\n",
            "  warnings.warn(msg, category=FutureWarning)\n",
            "/usr/local/lib/python3.6/dist-packages/sklearn/utils/deprecation.py:87: FutureWarning: Function safe_indexing is deprecated; safe_indexing is deprecated in version 0.22 and will be removed in version 0.24.\n",
            "  warnings.warn(msg, category=FutureWarning)\n",
            "/usr/local/lib/python3.6/dist-packages/sklearn/utils/deprecation.py:87: FutureWarning: Function safe_indexing is deprecated; safe_indexing is deprecated in version 0.22 and will be removed in version 0.24.\n",
            "  warnings.warn(msg, category=FutureWarning)\n",
            "/usr/local/lib/python3.6/dist-packages/ipykernel_launcher.py:59: DeprecationWarning: scipy.interp is deprecated and will be removed in SciPy 2.0.0, use numpy.interp instead\n",
            "/usr/local/lib/python3.6/dist-packages/sklearn/utils/deprecation.py:87: FutureWarning: Function safe_indexing is deprecated; safe_indexing is deprecated in version 0.22 and will be removed in version 0.24.\n",
            "  warnings.warn(msg, category=FutureWarning)\n",
            "/usr/local/lib/python3.6/dist-packages/sklearn/utils/deprecation.py:87: FutureWarning: Function safe_indexing is deprecated; safe_indexing is deprecated in version 0.22 and will be removed in version 0.24.\n",
            "  warnings.warn(msg, category=FutureWarning)\n",
            "/usr/local/lib/python3.6/dist-packages/sklearn/utils/deprecation.py:87: FutureWarning: Function safe_indexing is deprecated; safe_indexing is deprecated in version 0.22 and will be removed in version 0.24.\n",
            "  warnings.warn(msg, category=FutureWarning)\n",
            "/usr/local/lib/python3.6/dist-packages/sklearn/utils/deprecation.py:87: FutureWarning: Function safe_indexing is deprecated; safe_indexing is deprecated in version 0.22 and will be removed in version 0.24.\n",
            "  warnings.warn(msg, category=FutureWarning)\n",
            "/usr/local/lib/python3.6/dist-packages/sklearn/utils/deprecation.py:87: FutureWarning: Function safe_indexing is deprecated; safe_indexing is deprecated in version 0.22 and will be removed in version 0.24.\n",
            "  warnings.warn(msg, category=FutureWarning)\n",
            "/usr/local/lib/python3.6/dist-packages/sklearn/utils/deprecation.py:87: FutureWarning: Function safe_indexing is deprecated; safe_indexing is deprecated in version 0.22 and will be removed in version 0.24.\n",
            "  warnings.warn(msg, category=FutureWarning)\n",
            "/usr/local/lib/python3.6/dist-packages/sklearn/utils/deprecation.py:87: FutureWarning: Function safe_indexing is deprecated; safe_indexing is deprecated in version 0.22 and will be removed in version 0.24.\n",
            "  warnings.warn(msg, category=FutureWarning)\n"
          ],
          "name": "stderr"
        },
        {
          "output_type": "stream",
          "text": [
            "[ColumnTransformer]  (1 of 1) Processing standardscaler, total=   0.0s\n"
          ],
          "name": "stdout"
        },
        {
          "output_type": "stream",
          "text": [
            "/usr/local/lib/python3.6/dist-packages/ipykernel_launcher.py:59: DeprecationWarning: scipy.interp is deprecated and will be removed in SciPy 2.0.0, use numpy.interp instead\n",
            "/usr/local/lib/python3.6/dist-packages/sklearn/utils/deprecation.py:87: FutureWarning: Function safe_indexing is deprecated; safe_indexing is deprecated in version 0.22 and will be removed in version 0.24.\n",
            "  warnings.warn(msg, category=FutureWarning)\n",
            "/usr/local/lib/python3.6/dist-packages/sklearn/utils/deprecation.py:87: FutureWarning: Function safe_indexing is deprecated; safe_indexing is deprecated in version 0.22 and will be removed in version 0.24.\n",
            "  warnings.warn(msg, category=FutureWarning)\n",
            "/usr/local/lib/python3.6/dist-packages/sklearn/utils/deprecation.py:87: FutureWarning: Function safe_indexing is deprecated; safe_indexing is deprecated in version 0.22 and will be removed in version 0.24.\n",
            "  warnings.warn(msg, category=FutureWarning)\n",
            "/usr/local/lib/python3.6/dist-packages/sklearn/utils/deprecation.py:87: FutureWarning: Function safe_indexing is deprecated; safe_indexing is deprecated in version 0.22 and will be removed in version 0.24.\n",
            "  warnings.warn(msg, category=FutureWarning)\n",
            "/usr/local/lib/python3.6/dist-packages/sklearn/utils/deprecation.py:87: FutureWarning: Function safe_indexing is deprecated; safe_indexing is deprecated in version 0.22 and will be removed in version 0.24.\n",
            "  warnings.warn(msg, category=FutureWarning)\n",
            "/usr/local/lib/python3.6/dist-packages/sklearn/utils/deprecation.py:87: FutureWarning: Function safe_indexing is deprecated; safe_indexing is deprecated in version 0.22 and will be removed in version 0.24.\n",
            "  warnings.warn(msg, category=FutureWarning)\n",
            "/usr/local/lib/python3.6/dist-packages/sklearn/utils/deprecation.py:87: FutureWarning: Function safe_indexing is deprecated; safe_indexing is deprecated in version 0.22 and will be removed in version 0.24.\n",
            "  warnings.warn(msg, category=FutureWarning)\n"
          ],
          "name": "stderr"
        },
        {
          "output_type": "stream",
          "text": [
            "[ColumnTransformer]  (1 of 1) Processing standardscaler, total=   0.0s\n"
          ],
          "name": "stdout"
        },
        {
          "output_type": "stream",
          "text": [
            "/usr/local/lib/python3.6/dist-packages/ipykernel_launcher.py:59: DeprecationWarning: scipy.interp is deprecated and will be removed in SciPy 2.0.0, use numpy.interp instead\n",
            "/usr/local/lib/python3.6/dist-packages/sklearn/utils/deprecation.py:87: FutureWarning: Function safe_indexing is deprecated; safe_indexing is deprecated in version 0.22 and will be removed in version 0.24.\n",
            "  warnings.warn(msg, category=FutureWarning)\n",
            "/usr/local/lib/python3.6/dist-packages/sklearn/utils/deprecation.py:87: FutureWarning: Function safe_indexing is deprecated; safe_indexing is deprecated in version 0.22 and will be removed in version 0.24.\n",
            "  warnings.warn(msg, category=FutureWarning)\n",
            "/usr/local/lib/python3.6/dist-packages/sklearn/utils/deprecation.py:87: FutureWarning: Function safe_indexing is deprecated; safe_indexing is deprecated in version 0.22 and will be removed in version 0.24.\n",
            "  warnings.warn(msg, category=FutureWarning)\n",
            "/usr/local/lib/python3.6/dist-packages/sklearn/utils/deprecation.py:87: FutureWarning: Function safe_indexing is deprecated; safe_indexing is deprecated in version 0.22 and will be removed in version 0.24.\n",
            "  warnings.warn(msg, category=FutureWarning)\n",
            "/usr/local/lib/python3.6/dist-packages/sklearn/utils/deprecation.py:87: FutureWarning: Function safe_indexing is deprecated; safe_indexing is deprecated in version 0.22 and will be removed in version 0.24.\n",
            "  warnings.warn(msg, category=FutureWarning)\n",
            "/usr/local/lib/python3.6/dist-packages/sklearn/utils/deprecation.py:87: FutureWarning: Function safe_indexing is deprecated; safe_indexing is deprecated in version 0.22 and will be removed in version 0.24.\n",
            "  warnings.warn(msg, category=FutureWarning)\n",
            "/usr/local/lib/python3.6/dist-packages/sklearn/utils/deprecation.py:87: FutureWarning: Function safe_indexing is deprecated; safe_indexing is deprecated in version 0.22 and will be removed in version 0.24.\n",
            "  warnings.warn(msg, category=FutureWarning)\n"
          ],
          "name": "stderr"
        },
        {
          "output_type": "stream",
          "text": [
            "[ColumnTransformer]  (1 of 1) Processing standardscaler, total=   0.0s\n"
          ],
          "name": "stdout"
        },
        {
          "output_type": "stream",
          "text": [
            "/usr/local/lib/python3.6/dist-packages/ipykernel_launcher.py:59: DeprecationWarning: scipy.interp is deprecated and will be removed in SciPy 2.0.0, use numpy.interp instead\n",
            "/usr/local/lib/python3.6/dist-packages/sklearn/utils/deprecation.py:87: FutureWarning: Function safe_indexing is deprecated; safe_indexing is deprecated in version 0.22 and will be removed in version 0.24.\n",
            "  warnings.warn(msg, category=FutureWarning)\n",
            "/usr/local/lib/python3.6/dist-packages/sklearn/utils/deprecation.py:87: FutureWarning: Function safe_indexing is deprecated; safe_indexing is deprecated in version 0.22 and will be removed in version 0.24.\n",
            "  warnings.warn(msg, category=FutureWarning)\n",
            "/usr/local/lib/python3.6/dist-packages/sklearn/utils/deprecation.py:87: FutureWarning: Function safe_indexing is deprecated; safe_indexing is deprecated in version 0.22 and will be removed in version 0.24.\n",
            "  warnings.warn(msg, category=FutureWarning)\n",
            "/usr/local/lib/python3.6/dist-packages/sklearn/utils/deprecation.py:87: FutureWarning: Function safe_indexing is deprecated; safe_indexing is deprecated in version 0.22 and will be removed in version 0.24.\n",
            "  warnings.warn(msg, category=FutureWarning)\n",
            "/usr/local/lib/python3.6/dist-packages/sklearn/utils/deprecation.py:87: FutureWarning: Function safe_indexing is deprecated; safe_indexing is deprecated in version 0.22 and will be removed in version 0.24.\n",
            "  warnings.warn(msg, category=FutureWarning)\n",
            "/usr/local/lib/python3.6/dist-packages/sklearn/utils/deprecation.py:87: FutureWarning: Function safe_indexing is deprecated; safe_indexing is deprecated in version 0.22 and will be removed in version 0.24.\n",
            "  warnings.warn(msg, category=FutureWarning)\n",
            "/usr/local/lib/python3.6/dist-packages/sklearn/utils/deprecation.py:87: FutureWarning: Function safe_indexing is deprecated; safe_indexing is deprecated in version 0.22 and will be removed in version 0.24.\n",
            "  warnings.warn(msg, category=FutureWarning)\n"
          ],
          "name": "stderr"
        },
        {
          "output_type": "stream",
          "text": [
            "[ColumnTransformer]  (1 of 1) Processing standardscaler, total=   0.0s\n",
            "[ColumnTransformer]  (1 of 1) Processing standardscaler, total=   0.0s\n",
            "WARNING:tensorflow:From /usr/local/lib/python3.6/dist-packages/keras/backend/tensorflow_backend.py:66: The name tf.get_default_graph is deprecated. Please use tf.compat.v1.get_default_graph instead.\n",
            "\n",
            "WARNING:tensorflow:From /usr/local/lib/python3.6/dist-packages/keras/backend/tensorflow_backend.py:541: The name tf.placeholder is deprecated. Please use tf.compat.v1.placeholder instead.\n",
            "\n",
            "WARNING:tensorflow:From /usr/local/lib/python3.6/dist-packages/keras/backend/tensorflow_backend.py:4479: The name tf.truncated_normal is deprecated. Please use tf.random.truncated_normal instead.\n",
            "\n"
          ],
          "name": "stdout"
        },
        {
          "output_type": "stream",
          "text": [
            "/usr/local/lib/python3.6/dist-packages/ipykernel_launcher.py:59: DeprecationWarning: scipy.interp is deprecated and will be removed in SciPy 2.0.0, use numpy.interp instead\n",
            "/usr/local/lib/python3.6/dist-packages/sklearn/utils/deprecation.py:87: FutureWarning: Function safe_indexing is deprecated; safe_indexing is deprecated in version 0.22 and will be removed in version 0.24.\n",
            "  warnings.warn(msg, category=FutureWarning)\n",
            "/usr/local/lib/python3.6/dist-packages/sklearn/utils/deprecation.py:87: FutureWarning: Function safe_indexing is deprecated; safe_indexing is deprecated in version 0.22 and will be removed in version 0.24.\n",
            "  warnings.warn(msg, category=FutureWarning)\n",
            "/usr/local/lib/python3.6/dist-packages/sklearn/utils/deprecation.py:87: FutureWarning: Function safe_indexing is deprecated; safe_indexing is deprecated in version 0.22 and will be removed in version 0.24.\n",
            "  warnings.warn(msg, category=FutureWarning)\n",
            "/usr/local/lib/python3.6/dist-packages/sklearn/utils/deprecation.py:87: FutureWarning: Function safe_indexing is deprecated; safe_indexing is deprecated in version 0.22 and will be removed in version 0.24.\n",
            "  warnings.warn(msg, category=FutureWarning)\n",
            "/usr/local/lib/python3.6/dist-packages/sklearn/utils/deprecation.py:87: FutureWarning: Function safe_indexing is deprecated; safe_indexing is deprecated in version 0.22 and will be removed in version 0.24.\n",
            "  warnings.warn(msg, category=FutureWarning)\n",
            "/usr/local/lib/python3.6/dist-packages/sklearn/utils/deprecation.py:87: FutureWarning: Function safe_indexing is deprecated; safe_indexing is deprecated in version 0.22 and will be removed in version 0.24.\n",
            "  warnings.warn(msg, category=FutureWarning)\n",
            "/usr/local/lib/python3.6/dist-packages/sklearn/utils/deprecation.py:87: FutureWarning: Function safe_indexing is deprecated; safe_indexing is deprecated in version 0.22 and will be removed in version 0.24.\n",
            "  warnings.warn(msg, category=FutureWarning)\n"
          ],
          "name": "stderr"
        },
        {
          "output_type": "stream",
          "text": [
            "WARNING:tensorflow:From /usr/local/lib/python3.6/dist-packages/keras/backend/tensorflow_backend.py:148: The name tf.placeholder_with_default is deprecated. Please use tf.compat.v1.placeholder_with_default instead.\n",
            "\n",
            "WARNING:tensorflow:From /usr/local/lib/python3.6/dist-packages/keras/backend/tensorflow_backend.py:3733: calling dropout (from tensorflow.python.ops.nn_ops) with keep_prob is deprecated and will be removed in a future version.\n",
            "Instructions for updating:\n",
            "Please use `rate` instead of `keep_prob`. Rate should be set to `rate = 1 - keep_prob`.\n",
            "WARNING:tensorflow:From /usr/local/lib/python3.6/dist-packages/keras/optimizers.py:793: The name tf.train.Optimizer is deprecated. Please use tf.compat.v1.train.Optimizer instead.\n",
            "\n",
            "WARNING:tensorflow:From /usr/local/lib/python3.6/dist-packages/keras/backend/tensorflow_backend.py:3576: The name tf.log is deprecated. Please use tf.math.log instead.\n",
            "\n",
            "WARNING:tensorflow:From /usr/local/lib/python3.6/dist-packages/tensorflow_core/python/ops/math_grad.py:1424: where (from tensorflow.python.ops.array_ops) is deprecated and will be removed in a future version.\n",
            "Instructions for updating:\n",
            "Use tf.where in 2.0, which has the same broadcast rule as np.where\n",
            "WARNING:tensorflow:From /usr/local/lib/python3.6/dist-packages/keras/backend/tensorflow_backend.py:1033: The name tf.assign_add is deprecated. Please use tf.compat.v1.assign_add instead.\n",
            "\n",
            "WARNING:tensorflow:From /usr/local/lib/python3.6/dist-packages/keras/backend/tensorflow_backend.py:1020: The name tf.assign is deprecated. Please use tf.compat.v1.assign instead.\n",
            "\n",
            "WARNING:tensorflow:From /usr/local/lib/python3.6/dist-packages/keras/backend/tensorflow_backend.py:3005: The name tf.Session is deprecated. Please use tf.compat.v1.Session instead.\n",
            "\n",
            "Train on 409 samples, validate on 103 samples\n",
            "Epoch 1/100\n",
            "WARNING:tensorflow:From /usr/local/lib/python3.6/dist-packages/keras/backend/tensorflow_backend.py:190: The name tf.get_default_session is deprecated. Please use tf.compat.v1.get_default_session instead.\n",
            "\n",
            "WARNING:tensorflow:From /usr/local/lib/python3.6/dist-packages/keras/backend/tensorflow_backend.py:197: The name tf.ConfigProto is deprecated. Please use tf.compat.v1.ConfigProto instead.\n",
            "\n",
            "WARNING:tensorflow:From /usr/local/lib/python3.6/dist-packages/keras/backend/tensorflow_backend.py:207: The name tf.global_variables is deprecated. Please use tf.compat.v1.global_variables instead.\n",
            "\n",
            "WARNING:tensorflow:From /usr/local/lib/python3.6/dist-packages/keras/backend/tensorflow_backend.py:216: The name tf.is_variable_initialized is deprecated. Please use tf.compat.v1.is_variable_initialized instead.\n",
            "\n",
            "WARNING:tensorflow:From /usr/local/lib/python3.6/dist-packages/keras/backend/tensorflow_backend.py:223: The name tf.variables_initializer is deprecated. Please use tf.compat.v1.variables_initializer instead.\n",
            "\n",
            "409/409 [==============================] - 10s 24ms/step - loss: 1.8770 - acc: 0.3178 - val_loss: 1.5863 - val_acc: 0.3010\n",
            "Epoch 2/100\n",
            "409/409 [==============================] - 0s 151us/step - loss: 1.1709 - acc: 0.4841 - val_loss: 1.0340 - val_acc: 0.5437\n",
            "Epoch 3/100\n",
            "409/409 [==============================] - 0s 130us/step - loss: 0.9001 - acc: 0.6553 - val_loss: 1.1756 - val_acc: 0.3107\n",
            "Epoch 4/100\n",
            "409/409 [==============================] - 0s 133us/step - loss: 0.7326 - acc: 0.7702 - val_loss: 0.9886 - val_acc: 0.6019\n",
            "Epoch 5/100\n",
            "409/409 [==============================] - 0s 146us/step - loss: 0.5711 - acc: 0.8215 - val_loss: 0.6676 - val_acc: 0.7476\n",
            "Epoch 6/100\n",
            "409/409 [==============================] - 0s 152us/step - loss: 0.4823 - acc: 0.8655 - val_loss: 0.4978 - val_acc: 0.8058\n",
            "Epoch 7/100\n",
            "409/409 [==============================] - 0s 134us/step - loss: 0.4256 - acc: 0.8753 - val_loss: 0.6660 - val_acc: 0.8252\n",
            "Epoch 8/100\n",
            "409/409 [==============================] - 0s 141us/step - loss: 0.4523 - acc: 0.8704 - val_loss: 0.5649 - val_acc: 0.8252\n",
            "Epoch 9/100\n",
            "409/409 [==============================] - 0s 133us/step - loss: 0.3812 - acc: 0.8851 - val_loss: 0.5671 - val_acc: 0.7864\n",
            "Epoch 10/100\n",
            "409/409 [==============================] - 0s 155us/step - loss: 0.3641 - acc: 0.8729 - val_loss: 0.3383 - val_acc: 0.9029\n",
            "Epoch 11/100\n",
            "409/409 [==============================] - 0s 184us/step - loss: 0.4026 - acc: 0.8631 - val_loss: 0.4377 - val_acc: 0.8350\n",
            "Epoch 12/100\n",
            "409/409 [==============================] - 0s 134us/step - loss: 0.3621 - acc: 0.8973 - val_loss: 0.3234 - val_acc: 0.8835\n",
            "Epoch 13/100\n",
            "409/409 [==============================] - 0s 134us/step - loss: 0.3409 - acc: 0.8875 - val_loss: 0.3465 - val_acc: 0.8544\n",
            "Epoch 14/100\n",
            "409/409 [==============================] - 0s 150us/step - loss: 0.3166 - acc: 0.8900 - val_loss: 0.3775 - val_acc: 0.8641\n",
            "Epoch 15/100\n",
            "409/409 [==============================] - 0s 135us/step - loss: 0.3179 - acc: 0.8973 - val_loss: 0.2959 - val_acc: 0.8835\n",
            "Epoch 16/100\n",
            "409/409 [==============================] - 0s 150us/step - loss: 0.2911 - acc: 0.9120 - val_loss: 0.3389 - val_acc: 0.8447\n",
            "Epoch 17/100\n",
            "409/409 [==============================] - 0s 139us/step - loss: 0.2572 - acc: 0.9242 - val_loss: 0.2337 - val_acc: 0.9417\n",
            "Epoch 18/100\n",
            "409/409 [==============================] - 0s 138us/step - loss: 0.2798 - acc: 0.9046 - val_loss: 0.3126 - val_acc: 0.9223\n",
            "Epoch 19/100\n",
            "409/409 [==============================] - 0s 159us/step - loss: 0.2776 - acc: 0.8924 - val_loss: 0.2696 - val_acc: 0.9320\n",
            "Epoch 20/100\n",
            "409/409 [==============================] - 0s 137us/step - loss: 0.2678 - acc: 0.9095 - val_loss: 0.5513 - val_acc: 0.7573\n",
            "Epoch 21/100\n",
            "409/409 [==============================] - 0s 160us/step - loss: 0.2850 - acc: 0.9071 - val_loss: 0.5125 - val_acc: 0.8252\n",
            "Epoch 22/100\n",
            "409/409 [==============================] - 0s 174us/step - loss: 0.2891 - acc: 0.8778 - val_loss: 0.4489 - val_acc: 0.8252\n",
            "Epoch 23/100\n",
            "409/409 [==============================] - 0s 132us/step - loss: 0.2919 - acc: 0.8875 - val_loss: 0.2816 - val_acc: 0.9223\n",
            "Epoch 24/100\n",
            "409/409 [==============================] - 0s 131us/step - loss: 0.2395 - acc: 0.9242 - val_loss: 0.2674 - val_acc: 0.9320\n",
            "Epoch 25/100\n",
            "409/409 [==============================] - 0s 133us/step - loss: 0.2373 - acc: 0.9291 - val_loss: 0.2370 - val_acc: 0.9126\n",
            "Epoch 26/100\n",
            "409/409 [==============================] - 0s 125us/step - loss: 0.2624 - acc: 0.8973 - val_loss: 0.2926 - val_acc: 0.8932\n",
            "Epoch 27/100\n",
            "409/409 [==============================] - 0s 122us/step - loss: 0.2531 - acc: 0.9046 - val_loss: 0.2617 - val_acc: 0.9223\n",
            "Epoch 28/100\n",
            "409/409 [==============================] - 0s 177us/step - loss: 0.2396 - acc: 0.9242 - val_loss: 0.3611 - val_acc: 0.8738\n",
            "Epoch 29/100\n",
            "409/409 [==============================] - 0s 205us/step - loss: 0.2206 - acc: 0.9242 - val_loss: 0.2882 - val_acc: 0.9320\n",
            "Epoch 30/100\n",
            "409/409 [==============================] - 0s 187us/step - loss: 0.2499 - acc: 0.9193 - val_loss: 0.2716 - val_acc: 0.9029\n",
            "Epoch 31/100\n",
            "409/409 [==============================] - 0s 169us/step - loss: 0.2254 - acc: 0.9291 - val_loss: 0.5167 - val_acc: 0.7573\n",
            "Epoch 32/100\n",
            "409/409 [==============================] - 0s 152us/step - loss: 0.2815 - acc: 0.9046 - val_loss: 0.3228 - val_acc: 0.8738\n",
            "Epoch 33/100\n",
            "409/409 [==============================] - 0s 139us/step - loss: 0.2272 - acc: 0.9315 - val_loss: 0.2701 - val_acc: 0.9029\n",
            "Epoch 34/100\n",
            "409/409 [==============================] - 0s 154us/step - loss: 0.2448 - acc: 0.9071 - val_loss: 0.3936 - val_acc: 0.8252\n",
            "Epoch 35/100\n",
            "409/409 [==============================] - 0s 130us/step - loss: 0.2495 - acc: 0.9169 - val_loss: 0.4419 - val_acc: 0.8252\n",
            "Epoch 36/100\n",
            "409/409 [==============================] - 0s 130us/step - loss: 0.2550 - acc: 0.9095 - val_loss: 0.2969 - val_acc: 0.9223\n",
            "Epoch 37/100\n",
            "409/409 [==============================] - 0s 133us/step - loss: 0.2074 - acc: 0.9291 - val_loss: 0.3523 - val_acc: 0.8252\n"
          ],
          "name": "stdout"
        },
        {
          "output_type": "stream",
          "text": [
            "/usr/local/lib/python3.6/dist-packages/ipykernel_launcher.py:59: DeprecationWarning: scipy.interp is deprecated and will be removed in SciPy 2.0.0, use numpy.interp instead\n",
            "/usr/local/lib/python3.6/dist-packages/sklearn/utils/deprecation.py:87: FutureWarning: Function safe_indexing is deprecated; safe_indexing is deprecated in version 0.22 and will be removed in version 0.24.\n",
            "  warnings.warn(msg, category=FutureWarning)\n",
            "/usr/local/lib/python3.6/dist-packages/sklearn/utils/deprecation.py:87: FutureWarning: Function safe_indexing is deprecated; safe_indexing is deprecated in version 0.22 and will be removed in version 0.24.\n",
            "  warnings.warn(msg, category=FutureWarning)\n",
            "/usr/local/lib/python3.6/dist-packages/sklearn/utils/deprecation.py:87: FutureWarning: Function safe_indexing is deprecated; safe_indexing is deprecated in version 0.22 and will be removed in version 0.24.\n",
            "  warnings.warn(msg, category=FutureWarning)\n",
            "/usr/local/lib/python3.6/dist-packages/sklearn/utils/deprecation.py:87: FutureWarning: Function safe_indexing is deprecated; safe_indexing is deprecated in version 0.22 and will be removed in version 0.24.\n",
            "  warnings.warn(msg, category=FutureWarning)\n",
            "/usr/local/lib/python3.6/dist-packages/sklearn/utils/deprecation.py:87: FutureWarning: Function safe_indexing is deprecated; safe_indexing is deprecated in version 0.22 and will be removed in version 0.24.\n",
            "  warnings.warn(msg, category=FutureWarning)\n",
            "/usr/local/lib/python3.6/dist-packages/sklearn/utils/deprecation.py:87: FutureWarning: Function safe_indexing is deprecated; safe_indexing is deprecated in version 0.22 and will be removed in version 0.24.\n",
            "  warnings.warn(msg, category=FutureWarning)\n",
            "/usr/local/lib/python3.6/dist-packages/sklearn/utils/deprecation.py:87: FutureWarning: Function safe_indexing is deprecated; safe_indexing is deprecated in version 0.22 and will be removed in version 0.24.\n",
            "  warnings.warn(msg, category=FutureWarning)\n"
          ],
          "name": "stderr"
        },
        {
          "output_type": "stream",
          "text": [
            "[ColumnTransformer]  (1 of 1) Processing standardscaler, total=   0.0s\n",
            "Train on 416 samples, validate on 104 samples\n",
            "Epoch 1/100\n",
            "416/416 [==============================] - 0s 766us/step - loss: 1.7674 - acc: 0.3197 - val_loss: 1.3444 - val_acc: 0.2788\n",
            "Epoch 2/100\n",
            "416/416 [==============================] - 0s 130us/step - loss: 1.2106 - acc: 0.4591 - val_loss: 1.1712 - val_acc: 0.3558\n",
            "Epoch 3/100\n",
            "416/416 [==============================] - 0s 128us/step - loss: 1.0438 - acc: 0.5793 - val_loss: 1.0006 - val_acc: 0.3654\n",
            "Epoch 4/100\n",
            "416/416 [==============================] - 0s 132us/step - loss: 0.7937 - acc: 0.6827 - val_loss: 1.1181 - val_acc: 0.3846\n",
            "Epoch 5/100\n",
            "416/416 [==============================] - 0s 131us/step - loss: 0.6004 - acc: 0.7933 - val_loss: 0.8667 - val_acc: 0.7308\n",
            "Epoch 6/100\n",
            "416/416 [==============================] - 0s 135us/step - loss: 0.5415 - acc: 0.7861 - val_loss: 1.0447 - val_acc: 0.4615\n",
            "Epoch 7/100\n",
            "416/416 [==============================] - 0s 127us/step - loss: 0.4522 - acc: 0.8221 - val_loss: 0.7556 - val_acc: 0.5000\n",
            "Epoch 8/100\n",
            "416/416 [==============================] - 0s 133us/step - loss: 0.4430 - acc: 0.8413 - val_loss: 0.7921 - val_acc: 0.7404\n",
            "Epoch 9/100\n",
            "416/416 [==============================] - 0s 132us/step - loss: 0.3682 - acc: 0.8726 - val_loss: 0.7565 - val_acc: 0.7885\n",
            "Epoch 10/100\n",
            "416/416 [==============================] - 0s 131us/step - loss: 0.3484 - acc: 0.8822 - val_loss: 0.6017 - val_acc: 0.7692\n",
            "Epoch 11/100\n",
            "416/416 [==============================] - 0s 140us/step - loss: 0.3557 - acc: 0.8654 - val_loss: 0.9077 - val_acc: 0.3654\n",
            "Epoch 12/100\n",
            "416/416 [==============================] - 0s 154us/step - loss: 0.3516 - acc: 0.8822 - val_loss: 0.5704 - val_acc: 0.7500\n",
            "Epoch 13/100\n",
            "416/416 [==============================] - 0s 129us/step - loss: 0.3069 - acc: 0.8798 - val_loss: 0.6921 - val_acc: 0.6923\n",
            "Epoch 14/100\n",
            "416/416 [==============================] - 0s 155us/step - loss: 0.3592 - acc: 0.8990 - val_loss: 0.4593 - val_acc: 0.7885\n",
            "Epoch 15/100\n",
            "416/416 [==============================] - 0s 137us/step - loss: 0.3012 - acc: 0.9111 - val_loss: 0.4944 - val_acc: 0.7981\n",
            "Epoch 16/100\n",
            "416/416 [==============================] - 0s 209us/step - loss: 0.2723 - acc: 0.9062 - val_loss: 0.5171 - val_acc: 0.7692\n",
            "Epoch 17/100\n",
            "416/416 [==============================] - 0s 173us/step - loss: 0.2843 - acc: 0.8942 - val_loss: 0.4660 - val_acc: 0.7692\n",
            "Epoch 18/100\n",
            "416/416 [==============================] - 0s 153us/step - loss: 0.3156 - acc: 0.8894 - val_loss: 0.6262 - val_acc: 0.7308\n",
            "Epoch 19/100\n",
            "416/416 [==============================] - 0s 139us/step - loss: 0.2992 - acc: 0.8990 - val_loss: 0.5245 - val_acc: 0.7404\n",
            "Epoch 20/100\n",
            "416/416 [==============================] - 0s 133us/step - loss: 0.2319 - acc: 0.9231 - val_loss: 0.2931 - val_acc: 0.8077\n",
            "Epoch 21/100\n",
            "416/416 [==============================] - 0s 137us/step - loss: 0.2611 - acc: 0.9087 - val_loss: 0.3360 - val_acc: 0.8365\n",
            "Epoch 22/100\n",
            "416/416 [==============================] - 0s 136us/step - loss: 0.2496 - acc: 0.9087 - val_loss: 0.3427 - val_acc: 0.8365\n",
            "Epoch 23/100\n",
            "416/416 [==============================] - 0s 129us/step - loss: 0.2603 - acc: 0.8966 - val_loss: 0.4581 - val_acc: 0.7692\n",
            "Epoch 24/100\n",
            "416/416 [==============================] - 0s 142us/step - loss: 0.2471 - acc: 0.9159 - val_loss: 0.5560 - val_acc: 0.7308\n",
            "Epoch 25/100\n",
            "416/416 [==============================] - 0s 142us/step - loss: 0.2188 - acc: 0.9255 - val_loss: 0.4074 - val_acc: 0.7596\n",
            "Epoch 26/100\n",
            "416/416 [==============================] - 0s 145us/step - loss: 0.2752 - acc: 0.9038 - val_loss: 0.6105 - val_acc: 0.7115\n",
            "Epoch 27/100\n",
            "416/416 [==============================] - 0s 197us/step - loss: 0.2445 - acc: 0.9159 - val_loss: 0.3836 - val_acc: 0.8077\n",
            "Epoch 28/100\n",
            "416/416 [==============================] - 0s 222us/step - loss: 0.2224 - acc: 0.9279 - val_loss: 0.2956 - val_acc: 0.8365\n",
            "Epoch 29/100\n",
            "416/416 [==============================] - 0s 228us/step - loss: 0.2445 - acc: 0.9159 - val_loss: 0.5013 - val_acc: 0.8173\n",
            "Epoch 30/100\n",
            "416/416 [==============================] - 0s 252us/step - loss: 0.2362 - acc: 0.9038 - val_loss: 0.4129 - val_acc: 0.8269\n",
            "Epoch 31/100\n",
            "416/416 [==============================] - 0s 222us/step - loss: 0.2293 - acc: 0.9159 - val_loss: 0.5296 - val_acc: 0.7692\n",
            "Epoch 32/100\n",
            "416/416 [==============================] - 0s 220us/step - loss: 0.2168 - acc: 0.9231 - val_loss: 0.2852 - val_acc: 0.8462\n",
            "Epoch 33/100\n",
            "416/416 [==============================] - 0s 222us/step - loss: 0.1910 - acc: 0.9279 - val_loss: 0.4419 - val_acc: 0.8269\n",
            "Epoch 34/100\n",
            "416/416 [==============================] - 0s 139us/step - loss: 0.2146 - acc: 0.9231 - val_loss: 0.2368 - val_acc: 0.9423\n",
            "Epoch 35/100\n",
            "416/416 [==============================] - 0s 144us/step - loss: 0.1747 - acc: 0.9447 - val_loss: 0.3960 - val_acc: 0.8077\n",
            "Epoch 36/100\n",
            "416/416 [==============================] - 0s 139us/step - loss: 0.1997 - acc: 0.9327 - val_loss: 0.2775 - val_acc: 0.9135\n",
            "Epoch 37/100\n",
            "416/416 [==============================] - 0s 135us/step - loss: 0.1549 - acc: 0.9351 - val_loss: 0.2206 - val_acc: 0.8462\n",
            "Epoch 38/100\n",
            "416/416 [==============================] - 0s 129us/step - loss: 0.1892 - acc: 0.9399 - val_loss: 0.2576 - val_acc: 0.9519\n",
            "Epoch 39/100\n",
            "416/416 [==============================] - 0s 132us/step - loss: 0.1904 - acc: 0.9351 - val_loss: 0.2654 - val_acc: 0.9327\n",
            "Epoch 40/100\n",
            "416/416 [==============================] - 0s 146us/step - loss: 0.1891 - acc: 0.9279 - val_loss: 0.2788 - val_acc: 0.8462\n",
            "Epoch 41/100\n",
            "416/416 [==============================] - 0s 151us/step - loss: 0.1975 - acc: 0.9303 - val_loss: 0.2610 - val_acc: 0.8750\n",
            "Epoch 42/100\n",
            "416/416 [==============================] - 0s 144us/step - loss: 0.1725 - acc: 0.9423 - val_loss: 0.2306 - val_acc: 0.9135\n",
            "Epoch 43/100\n",
            "416/416 [==============================] - 0s 144us/step - loss: 0.1554 - acc: 0.9447 - val_loss: 0.1988 - val_acc: 0.9327\n",
            "Epoch 44/100\n",
            "416/416 [==============================] - 0s 170us/step - loss: 0.1794 - acc: 0.9231 - val_loss: 0.1363 - val_acc: 0.9808\n",
            "Epoch 45/100\n",
            "416/416 [==============================] - 0s 142us/step - loss: 0.2323 - acc: 0.9159 - val_loss: 0.1373 - val_acc: 0.9904\n",
            "Epoch 46/100\n",
            "416/416 [==============================] - 0s 132us/step - loss: 0.1611 - acc: 0.9471 - val_loss: 0.1902 - val_acc: 0.9423\n",
            "Epoch 47/100\n",
            "416/416 [==============================] - 0s 158us/step - loss: 0.1687 - acc: 0.9423 - val_loss: 0.3412 - val_acc: 0.8846\n",
            "Epoch 48/100\n",
            "416/416 [==============================] - 0s 151us/step - loss: 0.1553 - acc: 0.9399 - val_loss: 0.2176 - val_acc: 0.9135\n",
            "Epoch 49/100\n",
            "416/416 [==============================] - 0s 130us/step - loss: 0.1390 - acc: 0.9471 - val_loss: 0.1761 - val_acc: 0.9423\n",
            "Epoch 50/100\n",
            "416/416 [==============================] - 0s 125us/step - loss: 0.1605 - acc: 0.9351 - val_loss: 0.2396 - val_acc: 0.8750\n",
            "Epoch 51/100\n",
            "416/416 [==============================] - 0s 139us/step - loss: 0.1629 - acc: 0.9351 - val_loss: 0.0701 - val_acc: 0.9904\n",
            "Epoch 52/100\n",
            "416/416 [==============================] - 0s 149us/step - loss: 0.1862 - acc: 0.9327 - val_loss: 0.2165 - val_acc: 0.9423\n",
            "Epoch 53/100\n",
            "416/416 [==============================] - 0s 146us/step - loss: 0.1539 - acc: 0.9471 - val_loss: 0.3195 - val_acc: 0.8558\n",
            "Epoch 54/100\n",
            "416/416 [==============================] - 0s 142us/step - loss: 0.1612 - acc: 0.9471 - val_loss: 0.1495 - val_acc: 0.9808\n",
            "Epoch 55/100\n",
            "416/416 [==============================] - 0s 139us/step - loss: 0.1445 - acc: 0.9543 - val_loss: 0.0946 - val_acc: 0.9808\n",
            "Epoch 56/100\n",
            "416/416 [==============================] - 0s 148us/step - loss: 0.1234 - acc: 0.9639 - val_loss: 0.1995 - val_acc: 0.9519\n",
            "Epoch 57/100\n",
            "416/416 [==============================] - 0s 149us/step - loss: 0.1231 - acc: 0.9639 - val_loss: 0.1547 - val_acc: 0.9423\n",
            "Epoch 58/100\n",
            "416/416 [==============================] - 0s 142us/step - loss: 0.1478 - acc: 0.9543 - val_loss: 0.1683 - val_acc: 0.9615\n",
            "Epoch 59/100\n",
            "416/416 [==============================] - 0s 151us/step - loss: 0.1480 - acc: 0.9423 - val_loss: 0.1185 - val_acc: 0.9712\n",
            "Epoch 60/100\n",
            "416/416 [==============================] - 0s 147us/step - loss: 0.1651 - acc: 0.9567 - val_loss: 0.1391 - val_acc: 0.9615\n",
            "Epoch 61/100\n",
            "416/416 [==============================] - 0s 147us/step - loss: 0.1278 - acc: 0.9567 - val_loss: 0.2393 - val_acc: 0.8846\n",
            "Epoch 62/100\n",
            "416/416 [==============================] - 0s 127us/step - loss: 0.1514 - acc: 0.9351 - val_loss: 0.1078 - val_acc: 0.9712\n",
            "Epoch 63/100\n",
            "416/416 [==============================] - 0s 167us/step - loss: 0.1277 - acc: 0.9519 - val_loss: 0.0751 - val_acc: 1.0000\n",
            "Epoch 64/100\n",
            "416/416 [==============================] - 0s 130us/step - loss: 0.1511 - acc: 0.9423 - val_loss: 0.1110 - val_acc: 0.9712\n",
            "Epoch 65/100\n",
            "416/416 [==============================] - 0s 148us/step - loss: 0.1204 - acc: 0.9495 - val_loss: 0.1000 - val_acc: 0.9808\n",
            "Epoch 66/100\n",
            "416/416 [==============================] - 0s 126us/step - loss: 0.1215 - acc: 0.9712 - val_loss: 0.3375 - val_acc: 0.8269\n",
            "Epoch 67/100\n",
            "416/416 [==============================] - 0s 134us/step - loss: 0.1575 - acc: 0.9327 - val_loss: 0.0817 - val_acc: 0.9904\n",
            "Epoch 68/100\n",
            "416/416 [==============================] - 0s 122us/step - loss: 0.1316 - acc: 0.9567 - val_loss: 0.1579 - val_acc: 0.9519\n",
            "Epoch 69/100\n",
            "416/416 [==============================] - 0s 143us/step - loss: 0.1211 - acc: 0.9543 - val_loss: 0.2331 - val_acc: 0.8750\n",
            "Epoch 70/100\n",
            "416/416 [==============================] - 0s 133us/step - loss: 0.1223 - acc: 0.9591 - val_loss: 0.0753 - val_acc: 0.9808\n",
            "Epoch 71/100\n",
            "416/416 [==============================] - 0s 146us/step - loss: 0.1381 - acc: 0.9519 - val_loss: 0.0855 - val_acc: 0.9808\n"
          ],
          "name": "stdout"
        },
        {
          "output_type": "stream",
          "text": [
            "/usr/local/lib/python3.6/dist-packages/ipykernel_launcher.py:59: DeprecationWarning: scipy.interp is deprecated and will be removed in SciPy 2.0.0, use numpy.interp instead\n",
            "/usr/local/lib/python3.6/dist-packages/sklearn/utils/deprecation.py:87: FutureWarning: Function safe_indexing is deprecated; safe_indexing is deprecated in version 0.22 and will be removed in version 0.24.\n",
            "  warnings.warn(msg, category=FutureWarning)\n",
            "/usr/local/lib/python3.6/dist-packages/sklearn/utils/deprecation.py:87: FutureWarning: Function safe_indexing is deprecated; safe_indexing is deprecated in version 0.22 and will be removed in version 0.24.\n",
            "  warnings.warn(msg, category=FutureWarning)\n",
            "/usr/local/lib/python3.6/dist-packages/sklearn/utils/deprecation.py:87: FutureWarning: Function safe_indexing is deprecated; safe_indexing is deprecated in version 0.22 and will be removed in version 0.24.\n",
            "  warnings.warn(msg, category=FutureWarning)\n",
            "/usr/local/lib/python3.6/dist-packages/sklearn/utils/deprecation.py:87: FutureWarning: Function safe_indexing is deprecated; safe_indexing is deprecated in version 0.22 and will be removed in version 0.24.\n",
            "  warnings.warn(msg, category=FutureWarning)\n",
            "/usr/local/lib/python3.6/dist-packages/sklearn/utils/deprecation.py:87: FutureWarning: Function safe_indexing is deprecated; safe_indexing is deprecated in version 0.22 and will be removed in version 0.24.\n",
            "  warnings.warn(msg, category=FutureWarning)\n",
            "/usr/local/lib/python3.6/dist-packages/sklearn/utils/deprecation.py:87: FutureWarning: Function safe_indexing is deprecated; safe_indexing is deprecated in version 0.22 and will be removed in version 0.24.\n",
            "  warnings.warn(msg, category=FutureWarning)\n",
            "/usr/local/lib/python3.6/dist-packages/sklearn/utils/deprecation.py:87: FutureWarning: Function safe_indexing is deprecated; safe_indexing is deprecated in version 0.22 and will be removed in version 0.24.\n",
            "  warnings.warn(msg, category=FutureWarning)\n"
          ],
          "name": "stderr"
        },
        {
          "output_type": "stream",
          "text": [
            "[ColumnTransformer]  (1 of 1) Processing standardscaler, total=   0.0s\n",
            "Train on 416 samples, validate on 104 samples\n",
            "Epoch 1/100\n",
            "416/416 [==============================] - 0s 905us/step - loss: 1.6578 - acc: 0.3534 - val_loss: 2.0270 - val_acc: 0.2596\n",
            "Epoch 2/100\n",
            "416/416 [==============================] - 0s 138us/step - loss: 1.2658 - acc: 0.4327 - val_loss: 1.7461 - val_acc: 0.2019\n",
            "Epoch 3/100\n",
            "416/416 [==============================] - 0s 134us/step - loss: 0.9478 - acc: 0.6490 - val_loss: 1.4138 - val_acc: 0.2404\n",
            "Epoch 4/100\n",
            "416/416 [==============================] - 0s 128us/step - loss: 0.7472 - acc: 0.7548 - val_loss: 1.4049 - val_acc: 0.2596\n",
            "Epoch 5/100\n",
            "416/416 [==============================] - 0s 182us/step - loss: 0.6316 - acc: 0.7933 - val_loss: 2.0251 - val_acc: 0.2404\n",
            "Epoch 6/100\n",
            "416/416 [==============================] - 0s 157us/step - loss: 0.5318 - acc: 0.8197 - val_loss: 1.6716 - val_acc: 0.2500\n",
            "Epoch 7/100\n",
            "416/416 [==============================] - 0s 143us/step - loss: 0.4571 - acc: 0.8462 - val_loss: 1.6389 - val_acc: 0.2788\n",
            "Epoch 8/100\n",
            "416/416 [==============================] - 0s 149us/step - loss: 0.3945 - acc: 0.8798 - val_loss: 1.3646 - val_acc: 0.3365\n",
            "Epoch 9/100\n",
            "416/416 [==============================] - 0s 174us/step - loss: 0.3907 - acc: 0.8822 - val_loss: 1.6536 - val_acc: 0.3173\n",
            "Epoch 10/100\n",
            "416/416 [==============================] - 0s 156us/step - loss: 0.3936 - acc: 0.8678 - val_loss: 1.1579 - val_acc: 0.3750\n",
            "Epoch 11/100\n",
            "416/416 [==============================] - 0s 145us/step - loss: 0.3899 - acc: 0.8606 - val_loss: 1.1300 - val_acc: 0.4038\n",
            "Epoch 12/100\n",
            "416/416 [==============================] - 0s 130us/step - loss: 0.3242 - acc: 0.8894 - val_loss: 1.7436 - val_acc: 0.3654\n",
            "Epoch 13/100\n",
            "416/416 [==============================] - 0s 131us/step - loss: 0.3608 - acc: 0.8918 - val_loss: 1.0980 - val_acc: 0.4519\n",
            "Epoch 14/100\n",
            "416/416 [==============================] - 0s 128us/step - loss: 0.3091 - acc: 0.8990 - val_loss: 0.7115 - val_acc: 0.5481\n",
            "Epoch 15/100\n",
            "416/416 [==============================] - 0s 145us/step - loss: 0.3164 - acc: 0.9087 - val_loss: 1.1177 - val_acc: 0.4231\n",
            "Epoch 16/100\n",
            "416/416 [==============================] - 0s 150us/step - loss: 0.2821 - acc: 0.9159 - val_loss: 0.7002 - val_acc: 0.5192\n",
            "Epoch 17/100\n",
            "416/416 [==============================] - 0s 174us/step - loss: 0.2892 - acc: 0.9038 - val_loss: 1.0291 - val_acc: 0.4327\n",
            "Epoch 18/100\n",
            "416/416 [==============================] - 0s 170us/step - loss: 0.2812 - acc: 0.9111 - val_loss: 2.0983 - val_acc: 0.3269\n",
            "Epoch 19/100\n",
            "416/416 [==============================] - 0s 145us/step - loss: 0.2929 - acc: 0.9038 - val_loss: 1.4830 - val_acc: 0.3077\n",
            "Epoch 20/100\n",
            "416/416 [==============================] - 0s 160us/step - loss: 0.2901 - acc: 0.9111 - val_loss: 1.1504 - val_acc: 0.4423\n",
            "Epoch 21/100\n",
            "416/416 [==============================] - 0s 146us/step - loss: 0.2688 - acc: 0.9111 - val_loss: 1.3533 - val_acc: 0.3942\n",
            "Epoch 22/100\n",
            "416/416 [==============================] - 0s 186us/step - loss: 0.2439 - acc: 0.9207 - val_loss: 1.2669 - val_acc: 0.3462\n",
            "Epoch 23/100\n",
            "416/416 [==============================] - 0s 157us/step - loss: 0.2602 - acc: 0.9159 - val_loss: 1.5737 - val_acc: 0.3558\n",
            "Epoch 24/100\n",
            "416/416 [==============================] - 0s 144us/step - loss: 0.2500 - acc: 0.9159 - val_loss: 1.1532 - val_acc: 0.3942\n",
            "Epoch 25/100\n",
            "416/416 [==============================] - 0s 182us/step - loss: 0.2686 - acc: 0.9159 - val_loss: 0.9579 - val_acc: 0.4423\n",
            "Epoch 26/100\n",
            "416/416 [==============================] - 0s 145us/step - loss: 0.2323 - acc: 0.9279 - val_loss: 0.8318 - val_acc: 0.5096\n",
            "Epoch 27/100\n",
            "416/416 [==============================] - 0s 147us/step - loss: 0.2110 - acc: 0.9207 - val_loss: 0.7872 - val_acc: 0.5096\n",
            "Epoch 28/100\n",
            "416/416 [==============================] - 0s 152us/step - loss: 0.2158 - acc: 0.9231 - val_loss: 1.3482 - val_acc: 0.4038\n",
            "Epoch 29/100\n",
            "416/416 [==============================] - 0s 132us/step - loss: 0.2317 - acc: 0.9207 - val_loss: 1.5450 - val_acc: 0.4519\n",
            "Epoch 30/100\n",
            "416/416 [==============================] - 0s 125us/step - loss: 0.2586 - acc: 0.9159 - val_loss: 0.9569 - val_acc: 0.4712\n",
            "Epoch 31/100\n",
            "416/416 [==============================] - 0s 132us/step - loss: 0.2521 - acc: 0.9087 - val_loss: 0.8480 - val_acc: 0.6731\n",
            "Epoch 32/100\n",
            "416/416 [==============================] - 0s 120us/step - loss: 0.2421 - acc: 0.9135 - val_loss: 1.0377 - val_acc: 0.4712\n",
            "Epoch 33/100\n",
            "416/416 [==============================] - 0s 128us/step - loss: 0.2644 - acc: 0.9038 - val_loss: 1.2968 - val_acc: 0.3365\n",
            "Epoch 34/100\n",
            "416/416 [==============================] - 0s 128us/step - loss: 0.2581 - acc: 0.9183 - val_loss: 1.1575 - val_acc: 0.4038\n",
            "Epoch 35/100\n",
            "416/416 [==============================] - 0s 153us/step - loss: 0.2562 - acc: 0.9159 - val_loss: 1.1808 - val_acc: 0.4231\n",
            "Epoch 36/100\n",
            "416/416 [==============================] - 0s 138us/step - loss: 0.1985 - acc: 0.9327 - val_loss: 0.9590 - val_acc: 0.4712\n"
          ],
          "name": "stdout"
        },
        {
          "output_type": "stream",
          "text": [
            "/usr/local/lib/python3.6/dist-packages/ipykernel_launcher.py:59: DeprecationWarning: scipy.interp is deprecated and will be removed in SciPy 2.0.0, use numpy.interp instead\n",
            "/usr/local/lib/python3.6/dist-packages/sklearn/utils/deprecation.py:87: FutureWarning: Function safe_indexing is deprecated; safe_indexing is deprecated in version 0.22 and will be removed in version 0.24.\n",
            "  warnings.warn(msg, category=FutureWarning)\n",
            "/usr/local/lib/python3.6/dist-packages/sklearn/utils/deprecation.py:87: FutureWarning: Function safe_indexing is deprecated; safe_indexing is deprecated in version 0.22 and will be removed in version 0.24.\n",
            "  warnings.warn(msg, category=FutureWarning)\n",
            "/usr/local/lib/python3.6/dist-packages/sklearn/utils/deprecation.py:87: FutureWarning: Function safe_indexing is deprecated; safe_indexing is deprecated in version 0.22 and will be removed in version 0.24.\n",
            "  warnings.warn(msg, category=FutureWarning)\n",
            "/usr/local/lib/python3.6/dist-packages/sklearn/utils/deprecation.py:87: FutureWarning: Function safe_indexing is deprecated; safe_indexing is deprecated in version 0.22 and will be removed in version 0.24.\n",
            "  warnings.warn(msg, category=FutureWarning)\n",
            "/usr/local/lib/python3.6/dist-packages/sklearn/utils/deprecation.py:87: FutureWarning: Function safe_indexing is deprecated; safe_indexing is deprecated in version 0.22 and will be removed in version 0.24.\n",
            "  warnings.warn(msg, category=FutureWarning)\n",
            "/usr/local/lib/python3.6/dist-packages/sklearn/utils/deprecation.py:87: FutureWarning: Function safe_indexing is deprecated; safe_indexing is deprecated in version 0.22 and will be removed in version 0.24.\n",
            "  warnings.warn(msg, category=FutureWarning)\n",
            "/usr/local/lib/python3.6/dist-packages/sklearn/utils/deprecation.py:87: FutureWarning: Function safe_indexing is deprecated; safe_indexing is deprecated in version 0.22 and will be removed in version 0.24.\n",
            "  warnings.warn(msg, category=FutureWarning)\n"
          ],
          "name": "stderr"
        },
        {
          "output_type": "stream",
          "text": [
            "[ColumnTransformer]  (1 of 1) Processing standardscaler, total=   0.0s\n",
            "Train on 387 samples, validate on 97 samples\n",
            "Epoch 1/100\n",
            "387/387 [==============================] - 0s 1ms/step - loss: 1.8557 - acc: 0.3514 - val_loss: 1.7313 - val_acc: 0.0103\n",
            "Epoch 2/100\n",
            "387/387 [==============================] - 0s 154us/step - loss: 1.2815 - acc: 0.4755 - val_loss: 1.6742 - val_acc: 0.0103\n",
            "Epoch 3/100\n",
            "387/387 [==============================] - 0s 176us/step - loss: 1.0852 - acc: 0.5297 - val_loss: 1.5259 - val_acc: 0.1134\n",
            "Epoch 4/100\n",
            "387/387 [==============================] - 0s 168us/step - loss: 0.9454 - acc: 0.5633 - val_loss: 1.3452 - val_acc: 0.4124\n",
            "Epoch 5/100\n",
            "387/387 [==============================] - 0s 174us/step - loss: 0.8204 - acc: 0.6357 - val_loss: 1.4777 - val_acc: 0.2474\n",
            "Epoch 6/100\n",
            "387/387 [==============================] - 0s 151us/step - loss: 0.7698 - acc: 0.6873 - val_loss: 1.7301 - val_acc: 0.2371\n",
            "Epoch 7/100\n",
            "387/387 [==============================] - 0s 166us/step - loss: 0.6877 - acc: 0.7597 - val_loss: 1.0802 - val_acc: 0.5567\n",
            "Epoch 8/100\n",
            "387/387 [==============================] - 0s 139us/step - loss: 0.5497 - acc: 0.8010 - val_loss: 1.7502 - val_acc: 0.2784\n",
            "Epoch 9/100\n",
            "387/387 [==============================] - 0s 132us/step - loss: 0.5560 - acc: 0.8062 - val_loss: 0.9319 - val_acc: 0.4124\n",
            "Epoch 10/100\n",
            "387/387 [==============================] - 0s 144us/step - loss: 0.6602 - acc: 0.7519 - val_loss: 0.6792 - val_acc: 0.6392\n",
            "Epoch 11/100\n",
            "387/387 [==============================] - 0s 138us/step - loss: 0.6783 - acc: 0.7106 - val_loss: 1.0194 - val_acc: 0.3814\n",
            "Epoch 12/100\n",
            "387/387 [==============================] - 0s 136us/step - loss: 0.4723 - acc: 0.8372 - val_loss: 0.8460 - val_acc: 0.6392\n",
            "Epoch 13/100\n",
            "387/387 [==============================] - 0s 134us/step - loss: 0.4278 - acc: 0.8553 - val_loss: 0.8332 - val_acc: 0.6392\n",
            "Epoch 14/100\n",
            "387/387 [==============================] - 0s 154us/step - loss: 0.3972 - acc: 0.8475 - val_loss: 0.8121 - val_acc: 0.6598\n",
            "Epoch 15/100\n",
            "387/387 [==============================] - 0s 143us/step - loss: 0.3817 - acc: 0.8734 - val_loss: 0.6770 - val_acc: 0.7629\n",
            "Epoch 16/100\n",
            "387/387 [==============================] - 0s 139us/step - loss: 0.3375 - acc: 0.8811 - val_loss: 0.6633 - val_acc: 0.5773\n",
            "Epoch 17/100\n",
            "387/387 [==============================] - 0s 140us/step - loss: 0.3454 - acc: 0.8734 - val_loss: 0.8962 - val_acc: 0.5052\n",
            "Epoch 18/100\n",
            "387/387 [==============================] - 0s 156us/step - loss: 0.3772 - acc: 0.8786 - val_loss: 1.2851 - val_acc: 0.4742\n",
            "Epoch 19/100\n",
            "387/387 [==============================] - 0s 144us/step - loss: 0.3956 - acc: 0.8656 - val_loss: 0.9947 - val_acc: 0.6289\n",
            "Epoch 20/100\n",
            "387/387 [==============================] - 0s 150us/step - loss: 0.3169 - acc: 0.8863 - val_loss: 0.4556 - val_acc: 0.8763\n",
            "Epoch 21/100\n",
            "387/387 [==============================] - 0s 165us/step - loss: 0.3656 - acc: 0.8863 - val_loss: 0.5410 - val_acc: 0.6804\n",
            "Epoch 22/100\n",
            "387/387 [==============================] - 0s 189us/step - loss: 0.4163 - acc: 0.8527 - val_loss: 0.4244 - val_acc: 0.8763\n",
            "Epoch 23/100\n",
            "387/387 [==============================] - 0s 160us/step - loss: 0.2800 - acc: 0.9121 - val_loss: 0.4586 - val_acc: 0.8351\n",
            "Epoch 24/100\n",
            "387/387 [==============================] - 0s 155us/step - loss: 0.2818 - acc: 0.8992 - val_loss: 0.3107 - val_acc: 0.9381\n",
            "Epoch 25/100\n",
            "387/387 [==============================] - 0s 178us/step - loss: 0.2675 - acc: 0.9044 - val_loss: 0.6528 - val_acc: 0.6186\n",
            "Epoch 26/100\n",
            "387/387 [==============================] - 0s 162us/step - loss: 0.2683 - acc: 0.9121 - val_loss: 0.4331 - val_acc: 0.8866\n",
            "Epoch 27/100\n",
            "387/387 [==============================] - 0s 153us/step - loss: 0.2530 - acc: 0.9096 - val_loss: 0.8078 - val_acc: 0.6598\n",
            "Epoch 28/100\n",
            "387/387 [==============================] - 0s 196us/step - loss: 0.2505 - acc: 0.9121 - val_loss: 0.3336 - val_acc: 0.9175\n",
            "Epoch 29/100\n",
            "387/387 [==============================] - 0s 213us/step - loss: 0.2774 - acc: 0.8811 - val_loss: 0.4352 - val_acc: 0.8041\n",
            "Epoch 30/100\n",
            "387/387 [==============================] - 0s 248us/step - loss: 0.2391 - acc: 0.9225 - val_loss: 0.3644 - val_acc: 0.9381\n",
            "Epoch 31/100\n",
            "387/387 [==============================] - 0s 230us/step - loss: 0.2780 - acc: 0.8992 - val_loss: 0.6892 - val_acc: 0.6598\n",
            "Epoch 32/100\n",
            "387/387 [==============================] - 0s 238us/step - loss: 0.2810 - acc: 0.8966 - val_loss: 1.0893 - val_acc: 0.6289\n",
            "Epoch 33/100\n",
            "387/387 [==============================] - 0s 204us/step - loss: 0.2961 - acc: 0.8863 - val_loss: 0.3612 - val_acc: 0.8660\n",
            "Epoch 34/100\n",
            "387/387 [==============================] - 0s 251us/step - loss: 0.2721 - acc: 0.8915 - val_loss: 0.2973 - val_acc: 0.9278\n",
            "Epoch 35/100\n",
            "387/387 [==============================] - 0s 214us/step - loss: 0.2707 - acc: 0.9018 - val_loss: 0.5265 - val_acc: 0.7320\n",
            "Epoch 36/100\n",
            "387/387 [==============================] - 0s 146us/step - loss: 0.2287 - acc: 0.9147 - val_loss: 0.2984 - val_acc: 0.9278\n",
            "Epoch 37/100\n",
            "387/387 [==============================] - 0s 134us/step - loss: 0.2695 - acc: 0.8966 - val_loss: 0.3372 - val_acc: 0.9278\n",
            "Epoch 38/100\n",
            "387/387 [==============================] - 0s 147us/step - loss: 0.2430 - acc: 0.9121 - val_loss: 0.4025 - val_acc: 0.8660\n",
            "Epoch 39/100\n",
            "387/387 [==============================] - 0s 149us/step - loss: 0.2493 - acc: 0.9070 - val_loss: 0.6385 - val_acc: 0.6186\n",
            "Epoch 40/100\n",
            "387/387 [==============================] - 0s 134us/step - loss: 0.2855 - acc: 0.9096 - val_loss: 0.3564 - val_acc: 0.8866\n",
            "Epoch 41/100\n",
            "387/387 [==============================] - 0s 135us/step - loss: 0.2088 - acc: 0.9406 - val_loss: 0.2760 - val_acc: 0.9072\n",
            "Epoch 42/100\n",
            "387/387 [==============================] - 0s 137us/step - loss: 0.2308 - acc: 0.9044 - val_loss: 0.5039 - val_acc: 0.7526\n",
            "Epoch 43/100\n",
            "387/387 [==============================] - 0s 149us/step - loss: 0.2422 - acc: 0.9070 - val_loss: 0.5858 - val_acc: 0.6701\n",
            "Epoch 44/100\n",
            "387/387 [==============================] - 0s 132us/step - loss: 0.2758 - acc: 0.9018 - val_loss: 0.5831 - val_acc: 0.6598\n",
            "Epoch 45/100\n",
            "387/387 [==============================] - 0s 151us/step - loss: 0.2155 - acc: 0.9251 - val_loss: 0.6405 - val_acc: 0.6495\n",
            "Epoch 46/100\n",
            "387/387 [==============================] - 0s 128us/step - loss: 0.2310 - acc: 0.9199 - val_loss: 0.2144 - val_acc: 0.9485\n",
            "Epoch 47/100\n",
            "387/387 [==============================] - 0s 138us/step - loss: 0.2955 - acc: 0.8966 - val_loss: 0.3357 - val_acc: 0.9278\n",
            "Epoch 48/100\n",
            "387/387 [==============================] - 0s 172us/step - loss: 0.3437 - acc: 0.8605 - val_loss: 0.5469 - val_acc: 0.7526\n",
            "Epoch 49/100\n",
            "387/387 [==============================] - 0s 149us/step - loss: 0.2396 - acc: 0.9199 - val_loss: 0.4481 - val_acc: 0.7732\n",
            "Epoch 50/100\n",
            "387/387 [==============================] - 0s 143us/step - loss: 0.2474 - acc: 0.9225 - val_loss: 0.7192 - val_acc: 0.7320\n",
            "Epoch 51/100\n",
            "387/387 [==============================] - 0s 161us/step - loss: 0.2909 - acc: 0.8992 - val_loss: 0.6371 - val_acc: 0.7629\n",
            "Epoch 52/100\n",
            "387/387 [==============================] - 0s 150us/step - loss: 0.2618 - acc: 0.9147 - val_loss: 0.2826 - val_acc: 0.9278\n",
            "Epoch 53/100\n",
            "387/387 [==============================] - 0s 164us/step - loss: 0.2095 - acc: 0.9328 - val_loss: 0.3212 - val_acc: 0.8763\n",
            "Epoch 54/100\n",
            "387/387 [==============================] - 0s 183us/step - loss: 0.2272 - acc: 0.9044 - val_loss: 0.3575 - val_acc: 0.8041\n",
            "Epoch 55/100\n",
            "387/387 [==============================] - 0s 138us/step - loss: 0.2154 - acc: 0.9276 - val_loss: 0.4812 - val_acc: 0.7423\n",
            "Epoch 56/100\n",
            "387/387 [==============================] - 0s 164us/step - loss: 0.2295 - acc: 0.9225 - val_loss: 0.3076 - val_acc: 0.9072\n",
            "Epoch 57/100\n",
            "387/387 [==============================] - 0s 183us/step - loss: 0.2302 - acc: 0.9096 - val_loss: 0.3331 - val_acc: 0.9175\n",
            "Epoch 58/100\n",
            "387/387 [==============================] - 0s 142us/step - loss: 0.2188 - acc: 0.9276 - val_loss: 0.3756 - val_acc: 0.7835\n",
            "Epoch 59/100\n",
            "387/387 [==============================] - 0s 136us/step - loss: 0.1975 - acc: 0.9354 - val_loss: 0.5694 - val_acc: 0.7629\n",
            "Epoch 60/100\n",
            "387/387 [==============================] - 0s 146us/step - loss: 0.2081 - acc: 0.9328 - val_loss: 0.3297 - val_acc: 0.8247\n",
            "Epoch 61/100\n",
            "387/387 [==============================] - 0s 140us/step - loss: 0.2022 - acc: 0.9354 - val_loss: 0.2883 - val_acc: 0.8866\n",
            "Epoch 62/100\n",
            "387/387 [==============================] - 0s 137us/step - loss: 0.2026 - acc: 0.9406 - val_loss: 0.4270 - val_acc: 0.7938\n",
            "Epoch 63/100\n",
            "387/387 [==============================] - 0s 140us/step - loss: 0.1718 - acc: 0.9509 - val_loss: 0.2398 - val_acc: 0.9278\n",
            "Epoch 64/100\n",
            "387/387 [==============================] - 0s 143us/step - loss: 0.2016 - acc: 0.9302 - val_loss: 0.2737 - val_acc: 0.8866\n",
            "Epoch 65/100\n",
            "387/387 [==============================] - 0s 176us/step - loss: 0.1780 - acc: 0.9406 - val_loss: 0.2424 - val_acc: 0.9175\n",
            "Epoch 66/100\n",
            "387/387 [==============================] - 0s 151us/step - loss: 0.1950 - acc: 0.9302 - val_loss: 0.3701 - val_acc: 0.8144\n"
          ],
          "name": "stdout"
        },
        {
          "output_type": "stream",
          "text": [
            "/usr/local/lib/python3.6/dist-packages/ipykernel_launcher.py:59: DeprecationWarning: scipy.interp is deprecated and will be removed in SciPy 2.0.0, use numpy.interp instead\n",
            "/usr/local/lib/python3.6/dist-packages/sklearn/utils/deprecation.py:87: FutureWarning: Function safe_indexing is deprecated; safe_indexing is deprecated in version 0.22 and will be removed in version 0.24.\n",
            "  warnings.warn(msg, category=FutureWarning)\n",
            "/usr/local/lib/python3.6/dist-packages/sklearn/utils/deprecation.py:87: FutureWarning: Function safe_indexing is deprecated; safe_indexing is deprecated in version 0.22 and will be removed in version 0.24.\n",
            "  warnings.warn(msg, category=FutureWarning)\n",
            "/usr/local/lib/python3.6/dist-packages/sklearn/utils/deprecation.py:87: FutureWarning: Function safe_indexing is deprecated; safe_indexing is deprecated in version 0.22 and will be removed in version 0.24.\n",
            "  warnings.warn(msg, category=FutureWarning)\n",
            "/usr/local/lib/python3.6/dist-packages/sklearn/utils/deprecation.py:87: FutureWarning: Function safe_indexing is deprecated; safe_indexing is deprecated in version 0.22 and will be removed in version 0.24.\n",
            "  warnings.warn(msg, category=FutureWarning)\n",
            "/usr/local/lib/python3.6/dist-packages/sklearn/utils/deprecation.py:87: FutureWarning: Function safe_indexing is deprecated; safe_indexing is deprecated in version 0.22 and will be removed in version 0.24.\n",
            "  warnings.warn(msg, category=FutureWarning)\n",
            "/usr/local/lib/python3.6/dist-packages/sklearn/utils/deprecation.py:87: FutureWarning: Function safe_indexing is deprecated; safe_indexing is deprecated in version 0.22 and will be removed in version 0.24.\n",
            "  warnings.warn(msg, category=FutureWarning)\n",
            "/usr/local/lib/python3.6/dist-packages/sklearn/utils/deprecation.py:87: FutureWarning: Function safe_indexing is deprecated; safe_indexing is deprecated in version 0.22 and will be removed in version 0.24.\n",
            "  warnings.warn(msg, category=FutureWarning)\n"
          ],
          "name": "stderr"
        },
        {
          "output_type": "stream",
          "text": [
            "[ColumnTransformer]  (1 of 1) Processing standardscaler, total=   0.0s\n",
            "Train on 419 samples, validate on 105 samples\n",
            "Epoch 1/100\n",
            "419/419 [==============================] - 1s 1ms/step - loss: 1.5586 - acc: 0.3508 - val_loss: 2.2422 - val_acc: 0.2571\n",
            "Epoch 2/100\n",
            "419/419 [==============================] - 0s 164us/step - loss: 1.2111 - acc: 0.5084 - val_loss: 1.5850 - val_acc: 0.1524\n",
            "Epoch 3/100\n",
            "419/419 [==============================] - 0s 171us/step - loss: 1.0138 - acc: 0.6372 - val_loss: 1.1762 - val_acc: 0.3238\n",
            "Epoch 4/100\n",
            "419/419 [==============================] - 0s 173us/step - loss: 0.8568 - acc: 0.7064 - val_loss: 1.2289 - val_acc: 0.2952\n",
            "Epoch 5/100\n",
            "419/419 [==============================] - 0s 139us/step - loss: 0.6558 - acc: 0.7971 - val_loss: 1.3226 - val_acc: 0.3333\n",
            "Epoch 6/100\n",
            "419/419 [==============================] - 0s 153us/step - loss: 0.5857 - acc: 0.8043 - val_loss: 0.5805 - val_acc: 0.8571\n",
            "Epoch 7/100\n",
            "419/419 [==============================] - 0s 177us/step - loss: 0.4887 - acc: 0.8329 - val_loss: 1.0215 - val_acc: 0.3810\n",
            "Epoch 8/100\n",
            "419/419 [==============================] - 0s 148us/step - loss: 0.4830 - acc: 0.8377 - val_loss: 0.9171 - val_acc: 0.6571\n",
            "Epoch 9/100\n",
            "419/419 [==============================] - 0s 126us/step - loss: 0.4669 - acc: 0.8473 - val_loss: 0.6232 - val_acc: 0.8190\n",
            "Epoch 10/100\n",
            "419/419 [==============================] - 0s 136us/step - loss: 0.5150 - acc: 0.8067 - val_loss: 1.1060 - val_acc: 0.5333\n",
            "Epoch 11/100\n",
            "419/419 [==============================] - 0s 138us/step - loss: 0.4239 - acc: 0.8807 - val_loss: 0.5741 - val_acc: 0.8571\n",
            "Epoch 12/100\n",
            "419/419 [==============================] - 0s 130us/step - loss: 0.3763 - acc: 0.8783 - val_loss: 0.3275 - val_acc: 0.9524\n",
            "Epoch 13/100\n",
            "419/419 [==============================] - 0s 136us/step - loss: 0.3651 - acc: 0.8759 - val_loss: 0.2637 - val_acc: 0.9524\n",
            "Epoch 14/100\n",
            "419/419 [==============================] - 0s 128us/step - loss: 0.3469 - acc: 0.8902 - val_loss: 0.4007 - val_acc: 0.8762\n",
            "Epoch 15/100\n",
            "419/419 [==============================] - 0s 140us/step - loss: 0.3203 - acc: 0.8854 - val_loss: 0.2021 - val_acc: 0.9429\n",
            "Epoch 16/100\n",
            "419/419 [==============================] - 0s 136us/step - loss: 0.3186 - acc: 0.8759 - val_loss: 0.2602 - val_acc: 0.9429\n",
            "Epoch 17/100\n",
            "419/419 [==============================] - 0s 166us/step - loss: 0.2710 - acc: 0.9189 - val_loss: 0.4400 - val_acc: 0.8286\n",
            "Epoch 18/100\n",
            "419/419 [==============================] - 0s 134us/step - loss: 0.3081 - acc: 0.8950 - val_loss: 0.1855 - val_acc: 0.9714\n",
            "Epoch 19/100\n",
            "419/419 [==============================] - 0s 136us/step - loss: 0.2460 - acc: 0.9165 - val_loss: 0.3292 - val_acc: 0.8857\n",
            "Epoch 20/100\n",
            "419/419 [==============================] - 0s 151us/step - loss: 0.3078 - acc: 0.8831 - val_loss: 0.3538 - val_acc: 0.9143\n",
            "Epoch 21/100\n",
            "419/419 [==============================] - 0s 176us/step - loss: 0.2942 - acc: 0.8878 - val_loss: 0.2045 - val_acc: 0.9524\n",
            "Epoch 22/100\n",
            "419/419 [==============================] - 0s 183us/step - loss: 0.2539 - acc: 0.9189 - val_loss: 0.3422 - val_acc: 0.9048\n",
            "Epoch 23/100\n",
            "419/419 [==============================] - 0s 167us/step - loss: 0.2919 - acc: 0.8998 - val_loss: 0.4627 - val_acc: 0.8286\n",
            "Epoch 24/100\n",
            "419/419 [==============================] - 0s 190us/step - loss: 0.4297 - acc: 0.8640 - val_loss: 0.1977 - val_acc: 0.9143\n",
            "Epoch 25/100\n",
            "419/419 [==============================] - 0s 167us/step - loss: 0.2530 - acc: 0.8950 - val_loss: 0.2273 - val_acc: 0.9524\n",
            "Epoch 26/100\n",
            "419/419 [==============================] - 0s 146us/step - loss: 0.2949 - acc: 0.8974 - val_loss: 0.1981 - val_acc: 0.9524\n",
            "Epoch 27/100\n",
            "419/419 [==============================] - 0s 154us/step - loss: 0.2572 - acc: 0.9189 - val_loss: 0.2190 - val_acc: 0.9238\n",
            "Epoch 28/100\n",
            "419/419 [==============================] - 0s 153us/step - loss: 0.2109 - acc: 0.9212 - val_loss: 0.2431 - val_acc: 0.9143\n",
            "Epoch 29/100\n",
            "419/419 [==============================] - 0s 168us/step - loss: 0.1914 - acc: 0.9260 - val_loss: 0.1640 - val_acc: 0.9333\n",
            "Epoch 30/100\n",
            "419/419 [==============================] - 0s 152us/step - loss: 0.2555 - acc: 0.9045 - val_loss: 0.2027 - val_acc: 0.9333\n",
            "Epoch 31/100\n",
            "419/419 [==============================] - 0s 156us/step - loss: 0.3263 - acc: 0.8950 - val_loss: 0.5909 - val_acc: 0.7524\n",
            "Epoch 32/100\n",
            "419/419 [==============================] - 0s 175us/step - loss: 0.2014 - acc: 0.9260 - val_loss: 0.0847 - val_acc: 1.0000\n",
            "Epoch 33/100\n",
            "419/419 [==============================] - 0s 164us/step - loss: 0.1645 - acc: 0.9403 - val_loss: 0.1384 - val_acc: 0.9333\n",
            "Epoch 34/100\n",
            "419/419 [==============================] - 0s 144us/step - loss: 0.1755 - acc: 0.9356 - val_loss: 0.2046 - val_acc: 0.9238\n",
            "Epoch 35/100\n",
            "419/419 [==============================] - 0s 190us/step - loss: 0.1753 - acc: 0.9379 - val_loss: 0.0781 - val_acc: 1.0000\n",
            "Epoch 36/100\n",
            "419/419 [==============================] - 0s 180us/step - loss: 0.1971 - acc: 0.9236 - val_loss: 0.2653 - val_acc: 0.8571\n",
            "Epoch 37/100\n",
            "419/419 [==============================] - 0s 144us/step - loss: 0.1828 - acc: 0.9308 - val_loss: 0.1013 - val_acc: 1.0000\n",
            "Epoch 38/100\n",
            "419/419 [==============================] - 0s 147us/step - loss: 0.1703 - acc: 0.9427 - val_loss: 0.1310 - val_acc: 0.9810\n",
            "Epoch 39/100\n",
            "419/419 [==============================] - 0s 176us/step - loss: 0.1751 - acc: 0.9308 - val_loss: 0.1777 - val_acc: 0.9238\n",
            "Epoch 40/100\n",
            "419/419 [==============================] - 0s 152us/step - loss: 0.1568 - acc: 0.9475 - val_loss: 0.1807 - val_acc: 0.9524\n",
            "Epoch 41/100\n",
            "419/419 [==============================] - 0s 129us/step - loss: 0.1629 - acc: 0.9403 - val_loss: 0.1099 - val_acc: 0.9619\n",
            "Epoch 42/100\n",
            "419/419 [==============================] - 0s 137us/step - loss: 0.1645 - acc: 0.9403 - val_loss: 0.1303 - val_acc: 0.9429\n",
            "Epoch 43/100\n",
            "419/419 [==============================] - 0s 144us/step - loss: 0.1494 - acc: 0.9475 - val_loss: 0.1094 - val_acc: 1.0000\n",
            "Epoch 44/100\n",
            "419/419 [==============================] - 0s 142us/step - loss: 0.1249 - acc: 0.9618 - val_loss: 0.1215 - val_acc: 0.9429\n",
            "Epoch 45/100\n",
            "419/419 [==============================] - 0s 127us/step - loss: 0.1383 - acc: 0.9427 - val_loss: 0.1293 - val_acc: 1.0000\n",
            "Epoch 46/100\n",
            "419/419 [==============================] - 0s 180us/step - loss: 0.1162 - acc: 0.9594 - val_loss: 0.0760 - val_acc: 1.0000\n",
            "Epoch 47/100\n",
            "419/419 [==============================] - 0s 181us/step - loss: 0.1588 - acc: 0.9547 - val_loss: 0.0713 - val_acc: 1.0000\n",
            "Epoch 48/100\n",
            "419/419 [==============================] - 0s 146us/step - loss: 0.1568 - acc: 0.9475 - val_loss: 0.0830 - val_acc: 1.0000\n",
            "Epoch 49/100\n",
            "419/419 [==============================] - 0s 127us/step - loss: 0.1426 - acc: 0.9523 - val_loss: 0.2236 - val_acc: 0.9238\n",
            "Epoch 50/100\n",
            "419/419 [==============================] - 0s 138us/step - loss: 0.1422 - acc: 0.9499 - val_loss: 0.0683 - val_acc: 1.0000\n",
            "Epoch 51/100\n",
            "419/419 [==============================] - 0s 166us/step - loss: 0.1550 - acc: 0.9547 - val_loss: 0.1509 - val_acc: 0.9429\n",
            "Epoch 52/100\n",
            "419/419 [==============================] - 0s 166us/step - loss: 0.1131 - acc: 0.9570 - val_loss: 0.0640 - val_acc: 1.0000\n",
            "Epoch 53/100\n",
            "419/419 [==============================] - 0s 162us/step - loss: 0.0974 - acc: 0.9690 - val_loss: 0.0676 - val_acc: 0.9905\n",
            "Epoch 54/100\n",
            "419/419 [==============================] - 0s 161us/step - loss: 0.1410 - acc: 0.9475 - val_loss: 0.0515 - val_acc: 1.0000\n",
            "Epoch 55/100\n",
            "419/419 [==============================] - 0s 127us/step - loss: 0.1065 - acc: 0.9594 - val_loss: 0.0792 - val_acc: 1.0000\n",
            "Epoch 56/100\n",
            "419/419 [==============================] - 0s 180us/step - loss: 0.0896 - acc: 0.9618 - val_loss: 0.0260 - val_acc: 1.0000\n",
            "Epoch 57/100\n",
            "419/419 [==============================] - 0s 163us/step - loss: 0.1096 - acc: 0.9594 - val_loss: 0.0817 - val_acc: 1.0000\n",
            "Epoch 58/100\n",
            "419/419 [==============================] - 0s 153us/step - loss: 0.1020 - acc: 0.9737 - val_loss: 0.0246 - val_acc: 1.0000\n",
            "Epoch 59/100\n",
            "419/419 [==============================] - 0s 145us/step - loss: 0.1098 - acc: 0.9570 - val_loss: 0.0295 - val_acc: 1.0000\n",
            "Epoch 60/100\n",
            "419/419 [==============================] - 0s 153us/step - loss: 0.1011 - acc: 0.9714 - val_loss: 0.1238 - val_acc: 0.9810\n",
            "Epoch 61/100\n",
            "419/419 [==============================] - 0s 152us/step - loss: 0.1380 - acc: 0.9308 - val_loss: 0.1006 - val_acc: 0.9714\n",
            "Epoch 62/100\n",
            "419/419 [==============================] - 0s 148us/step - loss: 0.1557 - acc: 0.9332 - val_loss: 0.0991 - val_acc: 1.0000\n",
            "Epoch 63/100\n",
            "419/419 [==============================] - 0s 161us/step - loss: 0.1425 - acc: 0.9451 - val_loss: 0.1105 - val_acc: 0.9905\n",
            "Epoch 64/100\n",
            "419/419 [==============================] - 0s 144us/step - loss: 0.1134 - acc: 0.9547 - val_loss: 0.0555 - val_acc: 1.0000\n",
            "Epoch 65/100\n",
            "419/419 [==============================] - 0s 139us/step - loss: 0.1104 - acc: 0.9594 - val_loss: 0.0498 - val_acc: 1.0000\n",
            "Epoch 66/100\n",
            "419/419 [==============================] - 0s 145us/step - loss: 0.1315 - acc: 0.9547 - val_loss: 0.0507 - val_acc: 1.0000\n",
            "Epoch 67/100\n",
            "419/419 [==============================] - 0s 140us/step - loss: 0.1039 - acc: 0.9642 - val_loss: 0.0445 - val_acc: 1.0000\n",
            "Epoch 68/100\n",
            "419/419 [==============================] - 0s 154us/step - loss: 0.1117 - acc: 0.9570 - val_loss: 0.0374 - val_acc: 1.0000\n",
            "Epoch 69/100\n",
            "419/419 [==============================] - 0s 159us/step - loss: 0.0776 - acc: 0.9666 - val_loss: 0.0350 - val_acc: 1.0000\n",
            "Epoch 70/100\n",
            "419/419 [==============================] - 0s 138us/step - loss: 0.0804 - acc: 0.9690 - val_loss: 0.0223 - val_acc: 1.0000\n",
            "Epoch 71/100\n",
            "419/419 [==============================] - 0s 138us/step - loss: 0.0800 - acc: 0.9570 - val_loss: 0.0248 - val_acc: 1.0000\n",
            "Epoch 72/100\n",
            "419/419 [==============================] - 0s 151us/step - loss: 0.0827 - acc: 0.9690 - val_loss: 0.0275 - val_acc: 1.0000\n",
            "Epoch 73/100\n",
            "419/419 [==============================] - 0s 176us/step - loss: 0.2606 - acc: 0.8878 - val_loss: 0.2736 - val_acc: 0.9048\n",
            "Epoch 74/100\n",
            "419/419 [==============================] - 0s 157us/step - loss: 0.2889 - acc: 0.9045 - val_loss: 0.2879 - val_acc: 0.8857\n",
            "Epoch 75/100\n",
            "419/419 [==============================] - 0s 164us/step - loss: 0.2776 - acc: 0.9117 - val_loss: 0.1101 - val_acc: 1.0000\n",
            "Epoch 76/100\n",
            "419/419 [==============================] - 0s 148us/step - loss: 0.2369 - acc: 0.9236 - val_loss: 0.1139 - val_acc: 0.9905\n",
            "Epoch 77/100\n",
            "419/419 [==============================] - 0s 153us/step - loss: 0.1712 - acc: 0.9403 - val_loss: 0.2697 - val_acc: 0.9238\n",
            "Epoch 78/100\n",
            "419/419 [==============================] - 0s 152us/step - loss: 0.1460 - acc: 0.9618 - val_loss: 0.0928 - val_acc: 0.9810\n",
            "Epoch 79/100\n",
            "419/419 [==============================] - 0s 150us/step - loss: 0.1198 - acc: 0.9594 - val_loss: 0.0495 - val_acc: 1.0000\n",
            "Epoch 80/100\n",
            "419/419 [==============================] - 0s 144us/step - loss: 0.1113 - acc: 0.9666 - val_loss: 0.0753 - val_acc: 1.0000\n",
            "Epoch 81/100\n",
            "419/419 [==============================] - 0s 130us/step - loss: 0.0938 - acc: 0.9618 - val_loss: 0.0173 - val_acc: 1.0000\n",
            "Epoch 82/100\n",
            "419/419 [==============================] - 0s 138us/step - loss: 0.1163 - acc: 0.9618 - val_loss: 0.0381 - val_acc: 1.0000\n",
            "Epoch 83/100\n",
            "419/419 [==============================] - 0s 142us/step - loss: 0.0983 - acc: 0.9666 - val_loss: 0.0168 - val_acc: 1.0000\n",
            "Epoch 84/100\n",
            "419/419 [==============================] - 0s 165us/step - loss: 0.1001 - acc: 0.9594 - val_loss: 0.0558 - val_acc: 1.0000\n",
            "Epoch 85/100\n",
            "419/419 [==============================] - 0s 169us/step - loss: 0.0868 - acc: 0.9714 - val_loss: 0.0153 - val_acc: 1.0000\n",
            "Epoch 86/100\n",
            "419/419 [==============================] - 0s 132us/step - loss: 0.1512 - acc: 0.9451 - val_loss: 0.0471 - val_acc: 1.0000\n",
            "Epoch 87/100\n",
            "419/419 [==============================] - 0s 136us/step - loss: 0.0846 - acc: 0.9714 - val_loss: 0.0230 - val_acc: 1.0000\n",
            "Epoch 88/100\n",
            "419/419 [==============================] - 0s 146us/step - loss: 0.0800 - acc: 0.9737 - val_loss: 0.0129 - val_acc: 1.0000\n",
            "Epoch 89/100\n",
            "419/419 [==============================] - 0s 195us/step - loss: 0.1038 - acc: 0.9523 - val_loss: 0.0146 - val_acc: 1.0000\n",
            "Epoch 90/100\n",
            "419/419 [==============================] - 0s 139us/step - loss: 0.0760 - acc: 0.9714 - val_loss: 0.0318 - val_acc: 1.0000\n",
            "Epoch 91/100\n",
            "419/419 [==============================] - 0s 170us/step - loss: 0.0631 - acc: 0.9857 - val_loss: 0.0116 - val_acc: 1.0000\n",
            "Epoch 92/100\n",
            "419/419 [==============================] - 0s 161us/step - loss: 0.0844 - acc: 0.9618 - val_loss: 0.0187 - val_acc: 1.0000\n",
            "Epoch 93/100\n",
            "419/419 [==============================] - 0s 173us/step - loss: 0.0771 - acc: 0.9737 - val_loss: 0.0265 - val_acc: 1.0000\n",
            "Epoch 94/100\n",
            "419/419 [==============================] - 0s 171us/step - loss: 0.0926 - acc: 0.9690 - val_loss: 0.0332 - val_acc: 1.0000\n",
            "Epoch 95/100\n",
            "419/419 [==============================] - 0s 141us/step - loss: 0.0798 - acc: 0.9785 - val_loss: 0.0112 - val_acc: 1.0000\n",
            "Epoch 96/100\n",
            "419/419 [==============================] - 0s 127us/step - loss: 0.1638 - acc: 0.9356 - val_loss: 0.1320 - val_acc: 0.9524\n",
            "Epoch 97/100\n",
            "419/419 [==============================] - 0s 119us/step - loss: 0.5858 - acc: 0.8067 - val_loss: 1.0122 - val_acc: 0.4381\n",
            "Epoch 98/100\n",
            "419/419 [==============================] - 0s 153us/step - loss: 0.2923 - acc: 0.8926 - val_loss: 0.2345 - val_acc: 0.9238\n",
            "Epoch 99/100\n",
            "419/419 [==============================] - 0s 153us/step - loss: 0.2001 - acc: 0.9236 - val_loss: 0.1379 - val_acc: 0.9429\n",
            "Epoch 100/100\n",
            "419/419 [==============================] - 0s 142us/step - loss: 0.2427 - acc: 0.9141 - val_loss: 0.2472 - val_acc: 0.9143\n"
          ],
          "name": "stdout"
        },
        {
          "output_type": "stream",
          "text": [
            "/usr/local/lib/python3.6/dist-packages/ipykernel_launcher.py:59: DeprecationWarning: scipy.interp is deprecated and will be removed in SciPy 2.0.0, use numpy.interp instead\n"
          ],
          "name": "stderr"
        },
        {
          "output_type": "display_data",
          "data": {
            "image/png": "[encoded data removed]",
            "text/plain": [
              "<Figure size 1080x576 with 1 Axes>"
            ]
          },
          "metadata": {
            "tags": []
          }
        }
      ]
    },
    {
      "cell_type": "code",
      "metadata": {
        "id": "v4kR6a_gAR7E",
        "colab_type": "code",
        "colab": {
          "base_uri": "https://localhost:8080/",
          "height": 325
        },
        "outputId": "84e6ab97-cdbe-4a31-df07-22ba307603ad"
      },
      "source": [
        "plt.xlabel('False Positive Rate',fontsize='20')\n",
        "plt.ylabel('True Positive Rate',fontsize='xx-large')\n",
        "plt.title('ROC 5-fold CV Comparison', fontsize='xx-large')\n",
        "plt.legend(loc=\"lower right\",fontsize=20)\n",
        "plt.savefig('ROC5fold_All_Oversampled_inloop.png',dpi=300)\n",
        "plt.show()\n"
      ],
      "execution_count": null,
      "outputs": [
        {
          "output_type": "stream",
          "text": [
            "No handles with labels found to put in legend.\n"
          ],
          "name": "stderr"
        },
        {
          "output_type": "display_data",
          "data": {
            "image/png": "[encoded data removed]",
            "text/plain": [
              "<Figure size 432x288 with 1 Axes>"
            ]
          },
          "metadata": {
            "tags": []
          }
        }
      ]
    },
    {
      "cell_type": "code",
      "metadata": {
        "id": "Armgv_zAxH9q",
        "colab_type": "code",
        "colab": {
          "base_uri": "https://localhost:8080/",
          "height": 34
        },
        "outputId": "6042f5f0-9bcc-49bc-c970-19a3069c16f8"
      },
      "source": [
        ""
      ],
      "execution_count": null,
      "outputs": [
        {
          "output_type": "execute_result",
          "data": {
            "text/plain": [
              "'<keras.wrappers.scikit_learn.KerasClassifier object at 0x7fd9d40b0668>'"
            ]
          },
          "metadata": {
            "tags": []
          },
          "execution_count": 105
        }
      ]
    },
    {
      "cell_type": "code",
      "metadata": {
        "id": "C0WpvCBIawtR",
        "colab_type": "code",
        "colab": {}
      },
      "source": [
        ""
      ],
      "execution_count": null,
      "outputs": []
    }
  ]
}